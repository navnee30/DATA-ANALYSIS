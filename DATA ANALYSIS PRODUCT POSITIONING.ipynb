{
  "nbformat": 4,
  "nbformat_minor": 0,
  "metadata": {
    "colab": {
      "provenance": []
    },
    "kernelspec": {
      "name": "python3",
      "display_name": "Python 3"
    },
    "language_info": {
      "name": "python"
    }
  },
  "cells": [
    {
      "cell_type": "markdown",
      "source": [
        "Here, I have performed data analysis on a public dataset available on Kaggle.\n",
        "The dataset had the information realted to the product positioning in a store."
      ],
      "metadata": {
        "id": "d_dfy2AvJnb-"
      }
    },
    {
      "cell_type": "code",
      "source": [
        "import pandas as pd\n",
        "import matplotlib.pyplot as plt\n",
        "import seaborn as sns\n",
        "import numpy as np\n",
        "import plotly.graph_objects as go"
      ],
      "metadata": {
        "id": "D0gNOrCKWfEN"
      },
      "execution_count": null,
      "outputs": []
    },
    {
      "cell_type": "markdown",
      "source": [
        "With the above code the pandas library is being imported. It is popular toolkit used for data analysis purpose.\n",
        "\n"
      ],
      "metadata": {
        "id": "r_GOfzj_Oayv"
      }
    },
    {
      "cell_type": "code",
      "source": [
        "from google.colab import drive\n",
        "drive.mount('/content/drive')"
      ],
      "metadata": {
        "colab": {
          "base_uri": "https://localhost:8080/"
        },
        "id": "uu7ULR7PSyTg",
        "outputId": "a3ee04b4-0f2a-44e5-fdaa-6af58f0b1c25"
      },
      "execution_count": null,
      "outputs": [
        {
          "output_type": "stream",
          "name": "stdout",
          "text": [
            "Mounted at /content/drive\n"
          ]
        }
      ]
    },
    {
      "cell_type": "markdown",
      "source": [
        "Using the above code google colab will be able to access the files that are stored in my google drive."
      ],
      "metadata": {
        "id": "D2cSpqDAOjpL"
      }
    },
    {
      "cell_type": "code",
      "source": [
        "df = pd.read_csv('/content/drive/MyDrive/Product Positioning.csv')"
      ],
      "metadata": {
        "id": "i7nFbvLlYP3s"
      },
      "execution_count": null,
      "outputs": []
    },
    {
      "cell_type": "markdown",
      "source": [
        "The above code imports a csv file to dataframe format and the dataset will be refered to as df."
      ],
      "metadata": {
        "id": "JvQR7pO7PaJo"
      }
    },
    {
      "cell_type": "code",
      "source": [
        "df.head()"
      ],
      "metadata": {
        "colab": {
          "base_uri": "https://localhost:8080/",
          "height": 206
        },
        "id": "QU9b2qsjYuKe",
        "outputId": "502f809a-0c90-4103-acbf-fd1e576690c6"
      },
      "execution_count": null,
      "outputs": [
        {
          "output_type": "execute_result",
          "data": {
            "text/plain": [
              "   Product ID Product Position  Price  Competitor's Price Promotion  \\\n",
              "0      185102            Aisle  17.07               16.16        No   \n",
              "1      188771            Aisle  17.41               13.13        No   \n",
              "2      180176          End-cap  43.16               38.37       Yes   \n",
              "3      112917            Aisle  42.26               38.98       Yes   \n",
              "4      192936          End-cap  47.94               45.59        No   \n",
              "\n",
              "  Foot Traffic Consumer Demographics Product Category Seasonal  Sales Volume  \n",
              "0       Medium              Families         Clothing       No          2823  \n",
              "1          Low               Seniors         Clothing       No           654  \n",
              "2       Medium          Young adults      Electronics      Yes          2220  \n",
              "3          Low              Families         Clothing      Yes          1568  \n",
              "4       Medium      College students         Clothing      Yes          2942  "
            ],
            "text/html": [
              "\n",
              "  <div id=\"df-583d7d1c-e3c4-497a-bf00-e0cd6a60af30\" class=\"colab-df-container\">\n",
              "    <div>\n",
              "<style scoped>\n",
              "    .dataframe tbody tr th:only-of-type {\n",
              "        vertical-align: middle;\n",
              "    }\n",
              "\n",
              "    .dataframe tbody tr th {\n",
              "        vertical-align: top;\n",
              "    }\n",
              "\n",
              "    .dataframe thead th {\n",
              "        text-align: right;\n",
              "    }\n",
              "</style>\n",
              "<table border=\"1\" class=\"dataframe\">\n",
              "  <thead>\n",
              "    <tr style=\"text-align: right;\">\n",
              "      <th></th>\n",
              "      <th>Product ID</th>\n",
              "      <th>Product Position</th>\n",
              "      <th>Price</th>\n",
              "      <th>Competitor's Price</th>\n",
              "      <th>Promotion</th>\n",
              "      <th>Foot Traffic</th>\n",
              "      <th>Consumer Demographics</th>\n",
              "      <th>Product Category</th>\n",
              "      <th>Seasonal</th>\n",
              "      <th>Sales Volume</th>\n",
              "    </tr>\n",
              "  </thead>\n",
              "  <tbody>\n",
              "    <tr>\n",
              "      <th>0</th>\n",
              "      <td>185102</td>\n",
              "      <td>Aisle</td>\n",
              "      <td>17.07</td>\n",
              "      <td>16.16</td>\n",
              "      <td>No</td>\n",
              "      <td>Medium</td>\n",
              "      <td>Families</td>\n",
              "      <td>Clothing</td>\n",
              "      <td>No</td>\n",
              "      <td>2823</td>\n",
              "    </tr>\n",
              "    <tr>\n",
              "      <th>1</th>\n",
              "      <td>188771</td>\n",
              "      <td>Aisle</td>\n",
              "      <td>17.41</td>\n",
              "      <td>13.13</td>\n",
              "      <td>No</td>\n",
              "      <td>Low</td>\n",
              "      <td>Seniors</td>\n",
              "      <td>Clothing</td>\n",
              "      <td>No</td>\n",
              "      <td>654</td>\n",
              "    </tr>\n",
              "    <tr>\n",
              "      <th>2</th>\n",
              "      <td>180176</td>\n",
              "      <td>End-cap</td>\n",
              "      <td>43.16</td>\n",
              "      <td>38.37</td>\n",
              "      <td>Yes</td>\n",
              "      <td>Medium</td>\n",
              "      <td>Young adults</td>\n",
              "      <td>Electronics</td>\n",
              "      <td>Yes</td>\n",
              "      <td>2220</td>\n",
              "    </tr>\n",
              "    <tr>\n",
              "      <th>3</th>\n",
              "      <td>112917</td>\n",
              "      <td>Aisle</td>\n",
              "      <td>42.26</td>\n",
              "      <td>38.98</td>\n",
              "      <td>Yes</td>\n",
              "      <td>Low</td>\n",
              "      <td>Families</td>\n",
              "      <td>Clothing</td>\n",
              "      <td>Yes</td>\n",
              "      <td>1568</td>\n",
              "    </tr>\n",
              "    <tr>\n",
              "      <th>4</th>\n",
              "      <td>192936</td>\n",
              "      <td>End-cap</td>\n",
              "      <td>47.94</td>\n",
              "      <td>45.59</td>\n",
              "      <td>No</td>\n",
              "      <td>Medium</td>\n",
              "      <td>College students</td>\n",
              "      <td>Clothing</td>\n",
              "      <td>Yes</td>\n",
              "      <td>2942</td>\n",
              "    </tr>\n",
              "  </tbody>\n",
              "</table>\n",
              "</div>\n",
              "    <div class=\"colab-df-buttons\">\n",
              "\n",
              "  <div class=\"colab-df-container\">\n",
              "    <button class=\"colab-df-convert\" onclick=\"convertToInteractive('df-583d7d1c-e3c4-497a-bf00-e0cd6a60af30')\"\n",
              "            title=\"Convert this dataframe to an interactive table.\"\n",
              "            style=\"display:none;\">\n",
              "\n",
              "  <svg xmlns=\"http://www.w3.org/2000/svg\" height=\"24px\" viewBox=\"0 -960 960 960\">\n",
              "    <path d=\"M120-120v-720h720v720H120Zm60-500h600v-160H180v160Zm220 220h160v-160H400v160Zm0 220h160v-160H400v160ZM180-400h160v-160H180v160Zm440 0h160v-160H620v160ZM180-180h160v-160H180v160Zm440 0h160v-160H620v160Z\"/>\n",
              "  </svg>\n",
              "    </button>\n",
              "\n",
              "  <style>\n",
              "    .colab-df-container {\n",
              "      display:flex;\n",
              "      gap: 12px;\n",
              "    }\n",
              "\n",
              "    .colab-df-convert {\n",
              "      background-color: #E8F0FE;\n",
              "      border: none;\n",
              "      border-radius: 50%;\n",
              "      cursor: pointer;\n",
              "      display: none;\n",
              "      fill: #1967D2;\n",
              "      height: 32px;\n",
              "      padding: 0 0 0 0;\n",
              "      width: 32px;\n",
              "    }\n",
              "\n",
              "    .colab-df-convert:hover {\n",
              "      background-color: #E2EBFA;\n",
              "      box-shadow: 0px 1px 2px rgba(60, 64, 67, 0.3), 0px 1px 3px 1px rgba(60, 64, 67, 0.15);\n",
              "      fill: #174EA6;\n",
              "    }\n",
              "\n",
              "    .colab-df-buttons div {\n",
              "      margin-bottom: 4px;\n",
              "    }\n",
              "\n",
              "    [theme=dark] .colab-df-convert {\n",
              "      background-color: #3B4455;\n",
              "      fill: #D2E3FC;\n",
              "    }\n",
              "\n",
              "    [theme=dark] .colab-df-convert:hover {\n",
              "      background-color: #434B5C;\n",
              "      box-shadow: 0px 1px 3px 1px rgba(0, 0, 0, 0.15);\n",
              "      filter: drop-shadow(0px 1px 2px rgba(0, 0, 0, 0.3));\n",
              "      fill: #FFFFFF;\n",
              "    }\n",
              "  </style>\n",
              "\n",
              "    <script>\n",
              "      const buttonEl =\n",
              "        document.querySelector('#df-583d7d1c-e3c4-497a-bf00-e0cd6a60af30 button.colab-df-convert');\n",
              "      buttonEl.style.display =\n",
              "        google.colab.kernel.accessAllowed ? 'block' : 'none';\n",
              "\n",
              "      async function convertToInteractive(key) {\n",
              "        const element = document.querySelector('#df-583d7d1c-e3c4-497a-bf00-e0cd6a60af30');\n",
              "        const dataTable =\n",
              "          await google.colab.kernel.invokeFunction('convertToInteractive',\n",
              "                                                    [key], {});\n",
              "        if (!dataTable) return;\n",
              "\n",
              "        const docLinkHtml = 'Like what you see? Visit the ' +\n",
              "          '<a target=\"_blank\" href=https://colab.research.google.com/notebooks/data_table.ipynb>data table notebook</a>'\n",
              "          + ' to learn more about interactive tables.';\n",
              "        element.innerHTML = '';\n",
              "        dataTable['output_type'] = 'display_data';\n",
              "        await google.colab.output.renderOutput(dataTable, element);\n",
              "        const docLink = document.createElement('div');\n",
              "        docLink.innerHTML = docLinkHtml;\n",
              "        element.appendChild(docLink);\n",
              "      }\n",
              "    </script>\n",
              "  </div>\n",
              "\n",
              "\n",
              "<div id=\"df-242b740f-e32b-4770-944d-387064424a42\">\n",
              "  <button class=\"colab-df-quickchart\" onclick=\"quickchart('df-242b740f-e32b-4770-944d-387064424a42')\"\n",
              "            title=\"Suggest charts\"\n",
              "            style=\"display:none;\">\n",
              "\n",
              "<svg xmlns=\"http://www.w3.org/2000/svg\" height=\"24px\"viewBox=\"0 0 24 24\"\n",
              "     width=\"24px\">\n",
              "    <g>\n",
              "        <path d=\"M19 3H5c-1.1 0-2 .9-2 2v14c0 1.1.9 2 2 2h14c1.1 0 2-.9 2-2V5c0-1.1-.9-2-2-2zM9 17H7v-7h2v7zm4 0h-2V7h2v10zm4 0h-2v-4h2v4z\"/>\n",
              "    </g>\n",
              "</svg>\n",
              "  </button>\n",
              "\n",
              "<style>\n",
              "  .colab-df-quickchart {\n",
              "      --bg-color: #E8F0FE;\n",
              "      --fill-color: #1967D2;\n",
              "      --hover-bg-color: #E2EBFA;\n",
              "      --hover-fill-color: #174EA6;\n",
              "      --disabled-fill-color: #AAA;\n",
              "      --disabled-bg-color: #DDD;\n",
              "  }\n",
              "\n",
              "  [theme=dark] .colab-df-quickchart {\n",
              "      --bg-color: #3B4455;\n",
              "      --fill-color: #D2E3FC;\n",
              "      --hover-bg-color: #434B5C;\n",
              "      --hover-fill-color: #FFFFFF;\n",
              "      --disabled-bg-color: #3B4455;\n",
              "      --disabled-fill-color: #666;\n",
              "  }\n",
              "\n",
              "  .colab-df-quickchart {\n",
              "    background-color: var(--bg-color);\n",
              "    border: none;\n",
              "    border-radius: 50%;\n",
              "    cursor: pointer;\n",
              "    display: none;\n",
              "    fill: var(--fill-color);\n",
              "    height: 32px;\n",
              "    padding: 0;\n",
              "    width: 32px;\n",
              "  }\n",
              "\n",
              "  .colab-df-quickchart:hover {\n",
              "    background-color: var(--hover-bg-color);\n",
              "    box-shadow: 0 1px 2px rgba(60, 64, 67, 0.3), 0 1px 3px 1px rgba(60, 64, 67, 0.15);\n",
              "    fill: var(--button-hover-fill-color);\n",
              "  }\n",
              "\n",
              "  .colab-df-quickchart-complete:disabled,\n",
              "  .colab-df-quickchart-complete:disabled:hover {\n",
              "    background-color: var(--disabled-bg-color);\n",
              "    fill: var(--disabled-fill-color);\n",
              "    box-shadow: none;\n",
              "  }\n",
              "\n",
              "  .colab-df-spinner {\n",
              "    border: 2px solid var(--fill-color);\n",
              "    border-color: transparent;\n",
              "    border-bottom-color: var(--fill-color);\n",
              "    animation:\n",
              "      spin 1s steps(1) infinite;\n",
              "  }\n",
              "\n",
              "  @keyframes spin {\n",
              "    0% {\n",
              "      border-color: transparent;\n",
              "      border-bottom-color: var(--fill-color);\n",
              "      border-left-color: var(--fill-color);\n",
              "    }\n",
              "    20% {\n",
              "      border-color: transparent;\n",
              "      border-left-color: var(--fill-color);\n",
              "      border-top-color: var(--fill-color);\n",
              "    }\n",
              "    30% {\n",
              "      border-color: transparent;\n",
              "      border-left-color: var(--fill-color);\n",
              "      border-top-color: var(--fill-color);\n",
              "      border-right-color: var(--fill-color);\n",
              "    }\n",
              "    40% {\n",
              "      border-color: transparent;\n",
              "      border-right-color: var(--fill-color);\n",
              "      border-top-color: var(--fill-color);\n",
              "    }\n",
              "    60% {\n",
              "      border-color: transparent;\n",
              "      border-right-color: var(--fill-color);\n",
              "    }\n",
              "    80% {\n",
              "      border-color: transparent;\n",
              "      border-right-color: var(--fill-color);\n",
              "      border-bottom-color: var(--fill-color);\n",
              "    }\n",
              "    90% {\n",
              "      border-color: transparent;\n",
              "      border-bottom-color: var(--fill-color);\n",
              "    }\n",
              "  }\n",
              "</style>\n",
              "\n",
              "  <script>\n",
              "    async function quickchart(key) {\n",
              "      const quickchartButtonEl =\n",
              "        document.querySelector('#' + key + ' button');\n",
              "      quickchartButtonEl.disabled = true;  // To prevent multiple clicks.\n",
              "      quickchartButtonEl.classList.add('colab-df-spinner');\n",
              "      try {\n",
              "        const charts = await google.colab.kernel.invokeFunction(\n",
              "            'suggestCharts', [key], {});\n",
              "      } catch (error) {\n",
              "        console.error('Error during call to suggestCharts:', error);\n",
              "      }\n",
              "      quickchartButtonEl.classList.remove('colab-df-spinner');\n",
              "      quickchartButtonEl.classList.add('colab-df-quickchart-complete');\n",
              "    }\n",
              "    (() => {\n",
              "      let quickchartButtonEl =\n",
              "        document.querySelector('#df-242b740f-e32b-4770-944d-387064424a42 button');\n",
              "      quickchartButtonEl.style.display =\n",
              "        google.colab.kernel.accessAllowed ? 'block' : 'none';\n",
              "    })();\n",
              "  </script>\n",
              "</div>\n",
              "\n",
              "    </div>\n",
              "  </div>\n"
            ],
            "application/vnd.google.colaboratory.intrinsic+json": {
              "type": "dataframe",
              "variable_name": "df",
              "summary": "{\n  \"name\": \"df\",\n  \"rows\": 1000,\n  \"fields\": [\n    {\n      \"column\": \"Product ID\",\n      \"properties\": {\n        \"dtype\": \"number\",\n        \"std\": 25795,\n        \"min\": 110033,\n        \"max\": 199976,\n        \"num_unique_values\": 989,\n        \"samples\": [\n          129898,\n          143305,\n          152568\n        ],\n        \"semantic_type\": \"\",\n        \"description\": \"\"\n      }\n    },\n    {\n      \"column\": \"Product Position\",\n      \"properties\": {\n        \"dtype\": \"category\",\n        \"num_unique_values\": 3,\n        \"samples\": [\n          \"Aisle\",\n          \"End-cap\",\n          \"Front of Store\"\n        ],\n        \"semantic_type\": \"\",\n        \"description\": \"\"\n      }\n    },\n    {\n      \"column\": \"Price\",\n      \"properties\": {\n        \"dtype\": \"number\",\n        \"std\": 13.067876495283999,\n        \"min\": 5.06,\n        \"max\": 49.98,\n        \"num_unique_values\": 897,\n        \"samples\": [\n          13.89,\n          11.02,\n          44.21\n        ],\n        \"semantic_type\": \"\",\n        \"description\": \"\"\n      }\n    },\n    {\n      \"column\": \"Competitor's Price\",\n      \"properties\": {\n        \"dtype\": \"number\",\n        \"std\": 13.156465911603433,\n        \"min\": 0.72,\n        \"max\": 49.85,\n        \"num_unique_values\": 915,\n        \"samples\": [\n          27.95,\n          17.87,\n          13.42\n        ],\n        \"semantic_type\": \"\",\n        \"description\": \"\"\n      }\n    },\n    {\n      \"column\": \"Promotion\",\n      \"properties\": {\n        \"dtype\": \"category\",\n        \"num_unique_values\": 2,\n        \"samples\": [\n          \"Yes\",\n          \"No\"\n        ],\n        \"semantic_type\": \"\",\n        \"description\": \"\"\n      }\n    },\n    {\n      \"column\": \"Foot Traffic\",\n      \"properties\": {\n        \"dtype\": \"category\",\n        \"num_unique_values\": 3,\n        \"samples\": [\n          \"Medium\",\n          \"Low\"\n        ],\n        \"semantic_type\": \"\",\n        \"description\": \"\"\n      }\n    },\n    {\n      \"column\": \"Consumer Demographics\",\n      \"properties\": {\n        \"dtype\": \"category\",\n        \"num_unique_values\": 4,\n        \"samples\": [\n          \"Seniors\",\n          \"College students\"\n        ],\n        \"semantic_type\": \"\",\n        \"description\": \"\"\n      }\n    },\n    {\n      \"column\": \"Product Category\",\n      \"properties\": {\n        \"dtype\": \"category\",\n        \"num_unique_values\": 3,\n        \"samples\": [\n          \"Clothing\",\n          \"Electronics\"\n        ],\n        \"semantic_type\": \"\",\n        \"description\": \"\"\n      }\n    },\n    {\n      \"column\": \"Seasonal\",\n      \"properties\": {\n        \"dtype\": \"category\",\n        \"num_unique_values\": 2,\n        \"samples\": [\n          \"Yes\",\n          \"No\"\n        ],\n        \"semantic_type\": \"\",\n        \"description\": \"\"\n      }\n    },\n    {\n      \"column\": \"Sales Volume\",\n      \"properties\": {\n        \"dtype\": \"number\",\n        \"std\": 718,\n        \"min\": 507,\n        \"max\": 2999,\n        \"num_unique_values\": 811,\n        \"samples\": [\n          1857,\n          2376\n        ],\n        \"semantic_type\": \"\",\n        \"description\": \"\"\n      }\n    }\n  ]\n}"
            }
          },
          "metadata": {},
          "execution_count": 5
        }
      ]
    },
    {
      "cell_type": "markdown",
      "source": [
        "The head function reads and displays the starting 5 entries of a dataset.\n",
        "This is being done to get a very surface level understanding of the dataset.\n",
        "\n",
        "About the dataset ->\n",
        "This contains dataset realted to the product positioning in a retain environment. It aims to understand the impact of various factors on sales volumne and consumer behaviour.\n"
      ],
      "metadata": {
        "id": "LQ5oWVZ-V49m"
      }
    },
    {
      "cell_type": "code",
      "source": [
        "df.info()"
      ],
      "metadata": {
        "colab": {
          "base_uri": "https://localhost:8080/"
        },
        "id": "N4BY6MwSREM9",
        "outputId": "9d28edf0-0342-42cc-d07b-624200e6aced"
      },
      "execution_count": null,
      "outputs": [
        {
          "output_type": "stream",
          "name": "stdout",
          "text": [
            "<class 'pandas.core.frame.DataFrame'>\n",
            "RangeIndex: 1000 entries, 0 to 999\n",
            "Data columns (total 10 columns):\n",
            " #   Column                 Non-Null Count  Dtype  \n",
            "---  ------                 --------------  -----  \n",
            " 0   Product ID             1000 non-null   int64  \n",
            " 1   Product Position       1000 non-null   object \n",
            " 2   Price                  1000 non-null   float64\n",
            " 3   Competitor's Price     1000 non-null   float64\n",
            " 4   Promotion              1000 non-null   object \n",
            " 5   Foot Traffic           1000 non-null   object \n",
            " 6   Consumer Demographics  1000 non-null   object \n",
            " 7   Product Category       1000 non-null   object \n",
            " 8   Seasonal               1000 non-null   object \n",
            " 9   Sales Volume           1000 non-null   int64  \n",
            "dtypes: float64(2), int64(2), object(6)\n",
            "memory usage: 78.2+ KB\n"
          ]
        }
      ]
    },
    {
      "cell_type": "markdown",
      "source": [
        "The above is the Info function, it gives a overall information about our whole dataset.\n",
        "\n",
        "It contains information such as the total number of entries, the columns and the presense of null values. As well the data type of each columns.\n",
        "\n",
        "My dataset has a total of 1000 entries."
      ],
      "metadata": {
        "id": "o3loBEkVScy4"
      }
    },
    {
      "cell_type": "code",
      "source": [
        "df.describe().T"
      ],
      "metadata": {
        "colab": {
          "base_uri": "https://localhost:8080/",
          "height": 175
        },
        "id": "wC5VfNJ1TDGl",
        "outputId": "b108d602-13bb-461f-faa8-76922af42704"
      },
      "execution_count": null,
      "outputs": [
        {
          "output_type": "execute_result",
          "data": {
            "text/plain": [
              "                     count          mean           std        min  \\\n",
              "Product ID          1000.0  154899.86200  25795.563607  110033.00   \n",
              "Price               1000.0      28.02001     13.067876       5.06   \n",
              "Competitor's Price  1000.0      25.55011     13.156466       0.72   \n",
              "Sales Volume        1000.0    1769.31100    718.386603     507.00   \n",
              "\n",
              "                            25%         50%          75%        max  \n",
              "Product ID          133164.5000  154694.500  176954.2500  199976.00  \n",
              "Price                   16.9175      28.680      39.3325      49.98  \n",
              "Competitor's Price      14.2775      26.145      37.1250      49.85  \n",
              "Sales Volume          1136.5000    1791.500    2363.7500    2999.00  "
            ],
            "text/html": [
              "\n",
              "  <div id=\"df-cfd929b4-34b9-4d2e-bdf1-cdd8a3e5f74b\" class=\"colab-df-container\">\n",
              "    <div>\n",
              "<style scoped>\n",
              "    .dataframe tbody tr th:only-of-type {\n",
              "        vertical-align: middle;\n",
              "    }\n",
              "\n",
              "    .dataframe tbody tr th {\n",
              "        vertical-align: top;\n",
              "    }\n",
              "\n",
              "    .dataframe thead th {\n",
              "        text-align: right;\n",
              "    }\n",
              "</style>\n",
              "<table border=\"1\" class=\"dataframe\">\n",
              "  <thead>\n",
              "    <tr style=\"text-align: right;\">\n",
              "      <th></th>\n",
              "      <th>count</th>\n",
              "      <th>mean</th>\n",
              "      <th>std</th>\n",
              "      <th>min</th>\n",
              "      <th>25%</th>\n",
              "      <th>50%</th>\n",
              "      <th>75%</th>\n",
              "      <th>max</th>\n",
              "    </tr>\n",
              "  </thead>\n",
              "  <tbody>\n",
              "    <tr>\n",
              "      <th>Product ID</th>\n",
              "      <td>1000.0</td>\n",
              "      <td>154899.86200</td>\n",
              "      <td>25795.563607</td>\n",
              "      <td>110033.00</td>\n",
              "      <td>133164.5000</td>\n",
              "      <td>154694.500</td>\n",
              "      <td>176954.2500</td>\n",
              "      <td>199976.00</td>\n",
              "    </tr>\n",
              "    <tr>\n",
              "      <th>Price</th>\n",
              "      <td>1000.0</td>\n",
              "      <td>28.02001</td>\n",
              "      <td>13.067876</td>\n",
              "      <td>5.06</td>\n",
              "      <td>16.9175</td>\n",
              "      <td>28.680</td>\n",
              "      <td>39.3325</td>\n",
              "      <td>49.98</td>\n",
              "    </tr>\n",
              "    <tr>\n",
              "      <th>Competitor's Price</th>\n",
              "      <td>1000.0</td>\n",
              "      <td>25.55011</td>\n",
              "      <td>13.156466</td>\n",
              "      <td>0.72</td>\n",
              "      <td>14.2775</td>\n",
              "      <td>26.145</td>\n",
              "      <td>37.1250</td>\n",
              "      <td>49.85</td>\n",
              "    </tr>\n",
              "    <tr>\n",
              "      <th>Sales Volume</th>\n",
              "      <td>1000.0</td>\n",
              "      <td>1769.31100</td>\n",
              "      <td>718.386603</td>\n",
              "      <td>507.00</td>\n",
              "      <td>1136.5000</td>\n",
              "      <td>1791.500</td>\n",
              "      <td>2363.7500</td>\n",
              "      <td>2999.00</td>\n",
              "    </tr>\n",
              "  </tbody>\n",
              "</table>\n",
              "</div>\n",
              "    <div class=\"colab-df-buttons\">\n",
              "\n",
              "  <div class=\"colab-df-container\">\n",
              "    <button class=\"colab-df-convert\" onclick=\"convertToInteractive('df-cfd929b4-34b9-4d2e-bdf1-cdd8a3e5f74b')\"\n",
              "            title=\"Convert this dataframe to an interactive table.\"\n",
              "            style=\"display:none;\">\n",
              "\n",
              "  <svg xmlns=\"http://www.w3.org/2000/svg\" height=\"24px\" viewBox=\"0 -960 960 960\">\n",
              "    <path d=\"M120-120v-720h720v720H120Zm60-500h600v-160H180v160Zm220 220h160v-160H400v160Zm0 220h160v-160H400v160ZM180-400h160v-160H180v160Zm440 0h160v-160H620v160ZM180-180h160v-160H180v160Zm440 0h160v-160H620v160Z\"/>\n",
              "  </svg>\n",
              "    </button>\n",
              "\n",
              "  <style>\n",
              "    .colab-df-container {\n",
              "      display:flex;\n",
              "      gap: 12px;\n",
              "    }\n",
              "\n",
              "    .colab-df-convert {\n",
              "      background-color: #E8F0FE;\n",
              "      border: none;\n",
              "      border-radius: 50%;\n",
              "      cursor: pointer;\n",
              "      display: none;\n",
              "      fill: #1967D2;\n",
              "      height: 32px;\n",
              "      padding: 0 0 0 0;\n",
              "      width: 32px;\n",
              "    }\n",
              "\n",
              "    .colab-df-convert:hover {\n",
              "      background-color: #E2EBFA;\n",
              "      box-shadow: 0px 1px 2px rgba(60, 64, 67, 0.3), 0px 1px 3px 1px rgba(60, 64, 67, 0.15);\n",
              "      fill: #174EA6;\n",
              "    }\n",
              "\n",
              "    .colab-df-buttons div {\n",
              "      margin-bottom: 4px;\n",
              "    }\n",
              "\n",
              "    [theme=dark] .colab-df-convert {\n",
              "      background-color: #3B4455;\n",
              "      fill: #D2E3FC;\n",
              "    }\n",
              "\n",
              "    [theme=dark] .colab-df-convert:hover {\n",
              "      background-color: #434B5C;\n",
              "      box-shadow: 0px 1px 3px 1px rgba(0, 0, 0, 0.15);\n",
              "      filter: drop-shadow(0px 1px 2px rgba(0, 0, 0, 0.3));\n",
              "      fill: #FFFFFF;\n",
              "    }\n",
              "  </style>\n",
              "\n",
              "    <script>\n",
              "      const buttonEl =\n",
              "        document.querySelector('#df-cfd929b4-34b9-4d2e-bdf1-cdd8a3e5f74b button.colab-df-convert');\n",
              "      buttonEl.style.display =\n",
              "        google.colab.kernel.accessAllowed ? 'block' : 'none';\n",
              "\n",
              "      async function convertToInteractive(key) {\n",
              "        const element = document.querySelector('#df-cfd929b4-34b9-4d2e-bdf1-cdd8a3e5f74b');\n",
              "        const dataTable =\n",
              "          await google.colab.kernel.invokeFunction('convertToInteractive',\n",
              "                                                    [key], {});\n",
              "        if (!dataTable) return;\n",
              "\n",
              "        const docLinkHtml = 'Like what you see? Visit the ' +\n",
              "          '<a target=\"_blank\" href=https://colab.research.google.com/notebooks/data_table.ipynb>data table notebook</a>'\n",
              "          + ' to learn more about interactive tables.';\n",
              "        element.innerHTML = '';\n",
              "        dataTable['output_type'] = 'display_data';\n",
              "        await google.colab.output.renderOutput(dataTable, element);\n",
              "        const docLink = document.createElement('div');\n",
              "        docLink.innerHTML = docLinkHtml;\n",
              "        element.appendChild(docLink);\n",
              "      }\n",
              "    </script>\n",
              "  </div>\n",
              "\n",
              "\n",
              "<div id=\"df-6ef24b7a-570f-4ea4-9e25-060d6c1678d2\">\n",
              "  <button class=\"colab-df-quickchart\" onclick=\"quickchart('df-6ef24b7a-570f-4ea4-9e25-060d6c1678d2')\"\n",
              "            title=\"Suggest charts\"\n",
              "            style=\"display:none;\">\n",
              "\n",
              "<svg xmlns=\"http://www.w3.org/2000/svg\" height=\"24px\"viewBox=\"0 0 24 24\"\n",
              "     width=\"24px\">\n",
              "    <g>\n",
              "        <path d=\"M19 3H5c-1.1 0-2 .9-2 2v14c0 1.1.9 2 2 2h14c1.1 0 2-.9 2-2V5c0-1.1-.9-2-2-2zM9 17H7v-7h2v7zm4 0h-2V7h2v10zm4 0h-2v-4h2v4z\"/>\n",
              "    </g>\n",
              "</svg>\n",
              "  </button>\n",
              "\n",
              "<style>\n",
              "  .colab-df-quickchart {\n",
              "      --bg-color: #E8F0FE;\n",
              "      --fill-color: #1967D2;\n",
              "      --hover-bg-color: #E2EBFA;\n",
              "      --hover-fill-color: #174EA6;\n",
              "      --disabled-fill-color: #AAA;\n",
              "      --disabled-bg-color: #DDD;\n",
              "  }\n",
              "\n",
              "  [theme=dark] .colab-df-quickchart {\n",
              "      --bg-color: #3B4455;\n",
              "      --fill-color: #D2E3FC;\n",
              "      --hover-bg-color: #434B5C;\n",
              "      --hover-fill-color: #FFFFFF;\n",
              "      --disabled-bg-color: #3B4455;\n",
              "      --disabled-fill-color: #666;\n",
              "  }\n",
              "\n",
              "  .colab-df-quickchart {\n",
              "    background-color: var(--bg-color);\n",
              "    border: none;\n",
              "    border-radius: 50%;\n",
              "    cursor: pointer;\n",
              "    display: none;\n",
              "    fill: var(--fill-color);\n",
              "    height: 32px;\n",
              "    padding: 0;\n",
              "    width: 32px;\n",
              "  }\n",
              "\n",
              "  .colab-df-quickchart:hover {\n",
              "    background-color: var(--hover-bg-color);\n",
              "    box-shadow: 0 1px 2px rgba(60, 64, 67, 0.3), 0 1px 3px 1px rgba(60, 64, 67, 0.15);\n",
              "    fill: var(--button-hover-fill-color);\n",
              "  }\n",
              "\n",
              "  .colab-df-quickchart-complete:disabled,\n",
              "  .colab-df-quickchart-complete:disabled:hover {\n",
              "    background-color: var(--disabled-bg-color);\n",
              "    fill: var(--disabled-fill-color);\n",
              "    box-shadow: none;\n",
              "  }\n",
              "\n",
              "  .colab-df-spinner {\n",
              "    border: 2px solid var(--fill-color);\n",
              "    border-color: transparent;\n",
              "    border-bottom-color: var(--fill-color);\n",
              "    animation:\n",
              "      spin 1s steps(1) infinite;\n",
              "  }\n",
              "\n",
              "  @keyframes spin {\n",
              "    0% {\n",
              "      border-color: transparent;\n",
              "      border-bottom-color: var(--fill-color);\n",
              "      border-left-color: var(--fill-color);\n",
              "    }\n",
              "    20% {\n",
              "      border-color: transparent;\n",
              "      border-left-color: var(--fill-color);\n",
              "      border-top-color: var(--fill-color);\n",
              "    }\n",
              "    30% {\n",
              "      border-color: transparent;\n",
              "      border-left-color: var(--fill-color);\n",
              "      border-top-color: var(--fill-color);\n",
              "      border-right-color: var(--fill-color);\n",
              "    }\n",
              "    40% {\n",
              "      border-color: transparent;\n",
              "      border-right-color: var(--fill-color);\n",
              "      border-top-color: var(--fill-color);\n",
              "    }\n",
              "    60% {\n",
              "      border-color: transparent;\n",
              "      border-right-color: var(--fill-color);\n",
              "    }\n",
              "    80% {\n",
              "      border-color: transparent;\n",
              "      border-right-color: var(--fill-color);\n",
              "      border-bottom-color: var(--fill-color);\n",
              "    }\n",
              "    90% {\n",
              "      border-color: transparent;\n",
              "      border-bottom-color: var(--fill-color);\n",
              "    }\n",
              "  }\n",
              "</style>\n",
              "\n",
              "  <script>\n",
              "    async function quickchart(key) {\n",
              "      const quickchartButtonEl =\n",
              "        document.querySelector('#' + key + ' button');\n",
              "      quickchartButtonEl.disabled = true;  // To prevent multiple clicks.\n",
              "      quickchartButtonEl.classList.add('colab-df-spinner');\n",
              "      try {\n",
              "        const charts = await google.colab.kernel.invokeFunction(\n",
              "            'suggestCharts', [key], {});\n",
              "      } catch (error) {\n",
              "        console.error('Error during call to suggestCharts:', error);\n",
              "      }\n",
              "      quickchartButtonEl.classList.remove('colab-df-spinner');\n",
              "      quickchartButtonEl.classList.add('colab-df-quickchart-complete');\n",
              "    }\n",
              "    (() => {\n",
              "      let quickchartButtonEl =\n",
              "        document.querySelector('#df-6ef24b7a-570f-4ea4-9e25-060d6c1678d2 button');\n",
              "      quickchartButtonEl.style.display =\n",
              "        google.colab.kernel.accessAllowed ? 'block' : 'none';\n",
              "    })();\n",
              "  </script>\n",
              "</div>\n",
              "\n",
              "    </div>\n",
              "  </div>\n"
            ],
            "application/vnd.google.colaboratory.intrinsic+json": {
              "type": "dataframe",
              "summary": "{\n  \"name\": \"df\",\n  \"rows\": 4,\n  \"fields\": [\n    {\n      \"column\": \"count\",\n      \"properties\": {\n        \"dtype\": \"number\",\n        \"std\": 0.0,\n        \"min\": 1000.0,\n        \"max\": 1000.0,\n        \"num_unique_values\": 1,\n        \"samples\": [\n          1000.0\n        ],\n        \"semantic_type\": \"\",\n        \"description\": \"\"\n      }\n    },\n    {\n      \"column\": \"mean\",\n      \"properties\": {\n        \"dtype\": \"number\",\n        \"std\": 77150.49058862915,\n        \"min\": 25.55011,\n        \"max\": 154899.862,\n        \"num_unique_values\": 4,\n        \"samples\": [\n          28.02001\n        ],\n        \"semantic_type\": \"\",\n        \"description\": \"\"\n      }\n    },\n    {\n      \"column\": \"std\",\n      \"properties\": {\n        \"dtype\": \"number\",\n        \"std\": 12778.005956203335,\n        \"min\": 13.067876495283999,\n        \"max\": 25795.563606844313,\n        \"num_unique_values\": 4,\n        \"samples\": [\n          13.067876495283999\n        ],\n        \"semantic_type\": \"\",\n        \"description\": \"\"\n      }\n    },\n    {\n      \"column\": \"min\",\n      \"properties\": {\n        \"dtype\": \"number\",\n        \"std\": 54931.55072503081,\n        \"min\": 0.72,\n        \"max\": 110033.0,\n        \"num_unique_values\": 4,\n        \"samples\": [\n          5.06\n        ],\n        \"semantic_type\": \"\",\n        \"description\": \"\"\n      }\n    },\n    {\n      \"column\": \"25%\",\n      \"properties\": {\n        \"dtype\": \"number\",\n        \"std\": 66389.73698087505,\n        \"min\": 14.2775,\n        \"max\": 133164.5,\n        \"num_unique_values\": 4,\n        \"samples\": [\n          16.9175\n        ],\n        \"semantic_type\": \"\",\n        \"description\": \"\"\n      }\n    },\n    {\n      \"column\": \"50%\",\n      \"properties\": {\n        \"dtype\": \"number\",\n        \"std\": 77044.01736601243,\n        \"min\": 26.145,\n        \"max\": 154694.5,\n        \"num_unique_values\": 4,\n        \"samples\": [\n          28.68\n        ],\n        \"semantic_type\": \"\",\n        \"description\": \"\"\n      }\n    },\n    {\n      \"column\": \"75%\",\n      \"properties\": {\n        \"dtype\": \"number\",\n        \"std\": 88077.24637499811,\n        \"min\": 37.125,\n        \"max\": 176954.25,\n        \"num_unique_values\": 4,\n        \"samples\": [\n          39.332499999999996\n        ],\n        \"semantic_type\": \"\",\n        \"description\": \"\"\n      }\n    },\n    {\n      \"column\": \"max\",\n      \"properties\": {\n        \"dtype\": \"number\",\n        \"std\": 99481.24264593916,\n        \"min\": 49.85,\n        \"max\": 199976.0,\n        \"num_unique_values\": 4,\n        \"samples\": [\n          49.98\n        ],\n        \"semantic_type\": \"\",\n        \"description\": \"\"\n      }\n    }\n  ]\n}"
            }
          },
          "metadata": {},
          "execution_count": 7
        }
      ]
    },
    {
      "cell_type": "markdown",
      "source": [
        "The describe function generates a descriptive statistics of all the quantitaive columns of a dataset.\n",
        "\n",
        "The .T is transpose, it works by exchanging the rows and columns. In this situation, I have used it to represent the data in a more presentable manner."
      ],
      "metadata": {
        "id": "zh0lhXB2TNWU"
      }
    },
    {
      "cell_type": "code",
      "source": [
        "df.isna().sum()"
      ],
      "metadata": {
        "colab": {
          "base_uri": "https://localhost:8080/"
        },
        "id": "NeBm7Q9EWO8D",
        "outputId": "b41bef65-b8c1-4079-954b-deec20f82855"
      },
      "execution_count": null,
      "outputs": [
        {
          "output_type": "execute_result",
          "data": {
            "text/plain": [
              "Product ID               0\n",
              "Product Position         0\n",
              "Price                    0\n",
              "Competitor's Price       0\n",
              "Promotion                0\n",
              "Foot Traffic             0\n",
              "Consumer Demographics    0\n",
              "Product Category         0\n",
              "Seasonal                 0\n",
              "Sales Volume             0\n",
              "dtype: int64"
            ]
          },
          "metadata": {},
          "execution_count": 8
        }
      ]
    },
    {
      "cell_type": "markdown",
      "source": [
        "With the above code, I have just checked if there are any null values in my dataset.\n",
        "Fortunately, none of the columns contains any null values that need to be handled.\n",
        "\n",
        "isna() function is used to find if there are any null values in our dataset and sum() function tells the total null values of each columns."
      ],
      "metadata": {
        "id": "2hXydGLHXPlW"
      }
    },
    {
      "cell_type": "code",
      "source": [
        "df[\"Product Category\"].value_counts()"
      ],
      "metadata": {
        "colab": {
          "base_uri": "https://localhost:8080/"
        },
        "id": "5BFQuAntXkE2",
        "outputId": "487ae344-e04a-4721-d4ae-c513928924cd"
      },
      "execution_count": null,
      "outputs": [
        {
          "output_type": "execute_result",
          "data": {
            "text/plain": [
              "Product Category\n",
              "Clothing       338\n",
              "Electronics    336\n",
              "Food           326\n",
              "Name: count, dtype: int64"
            ]
          },
          "metadata": {},
          "execution_count": 9
        }
      ]
    },
    {
      "cell_type": "markdown",
      "source": [
        "With the above code, I have just identified how many products belongs to each category.\n",
        "\n",
        "It is seen that there are almost equal products identifying each of the three categories."
      ],
      "metadata": {
        "id": "qEzvQNMTbQ9t"
      }
    },
    {
      "cell_type": "code",
      "source": [
        "df[\"Product Position\"].value_counts()"
      ],
      "metadata": {
        "colab": {
          "base_uri": "https://localhost:8080/"
        },
        "id": "A-0Ylog8bwRI",
        "outputId": "09628a54-cee3-4e95-c59d-2b85257ca407"
      },
      "execution_count": null,
      "outputs": [
        {
          "output_type": "execute_result",
          "data": {
            "text/plain": [
              "Product Position\n",
              "End-cap           342\n",
              "Aisle             340\n",
              "Front of Store    318\n",
              "Name: count, dtype: int64"
            ]
          },
          "metadata": {},
          "execution_count": 10
        }
      ]
    },
    {
      "cell_type": "markdown",
      "source": [
        "With the above code, it should be noted that mainly three different product positioning have been mentioned."
      ],
      "metadata": {
        "id": "yebhX2NCdTB0"
      }
    },
    {
      "cell_type": "code",
      "source": [
        "df[\"Consumer Demographics\"].value_counts()"
      ],
      "metadata": {
        "colab": {
          "base_uri": "https://localhost:8080/"
        },
        "id": "EkDDaTBbd9_H",
        "outputId": "3d78b097-b821-462f-d7c9-91c4d6981572"
      },
      "execution_count": null,
      "outputs": [
        {
          "output_type": "execute_result",
          "data": {
            "text/plain": [
              "Consumer Demographics\n",
              "Families            263\n",
              "College students    251\n",
              "Seniors             249\n",
              "Young adults        237\n",
              "Name: count, dtype: int64"
            ]
          },
          "metadata": {},
          "execution_count": 11
        }
      ]
    },
    {
      "cell_type": "markdown",
      "source": [
        "With the above code, the different consumer demographics within the dataset have been identified.\n"
      ],
      "metadata": {
        "id": "ECUd3Vqyeo0l"
      }
    },
    {
      "cell_type": "code",
      "source": [
        "df[\"Foot Traffic\"].value_counts()"
      ],
      "metadata": {
        "colab": {
          "base_uri": "https://localhost:8080/"
        },
        "id": "_0YUoXRzM77j",
        "outputId": "9da1b7d0-a437-440f-e3e2-17f66ae83882"
      },
      "execution_count": null,
      "outputs": [
        {
          "output_type": "execute_result",
          "data": {
            "text/plain": [
              "Foot Traffic\n",
              "High      340\n",
              "Medium    338\n",
              "Low       322\n",
              "Name: count, dtype: int64"
            ]
          },
          "metadata": {},
          "execution_count": 12
        }
      ]
    },
    {
      "cell_type": "code",
      "source": [
        "df[\"Promotion\"].value_counts()"
      ],
      "metadata": {
        "colab": {
          "base_uri": "https://localhost:8080/"
        },
        "id": "uikRJj1-LGu5",
        "outputId": "43e94f66-7136-499b-9882-57b6474f8627"
      },
      "execution_count": null,
      "outputs": [
        {
          "output_type": "execute_result",
          "data": {
            "text/plain": [
              "Promotion\n",
              "No     528\n",
              "Yes    472\n",
              "Name: count, dtype: int64"
            ]
          },
          "metadata": {},
          "execution_count": 13
        }
      ]
    },
    {
      "cell_type": "markdown",
      "source": [
        "With this above code, we can note that out of the 1000 entries of product -> 528 were not on promotion and 472 were on promotion."
      ],
      "metadata": {
        "id": "-gHfjQ9yLaQ3"
      }
    },
    {
      "cell_type": "markdown",
      "source": [
        "##Note - Below this text are all of the data analysis I have done that will be used frequently in my business questions as to create better answer for the business questions.\n",
        "\n",
        "These are also some very general but important analysis of the data."
      ],
      "metadata": {
        "id": "wB6FHT34tL7X"
      }
    },
    {
      "cell_type": "code",
      "source": [
        "demographic_sales = df.groupby('Consumer Demographics')['Sales Volume'].sum()\n",
        "demographic_sales"
      ],
      "metadata": {
        "id": "w_G7QYfnDcee",
        "colab": {
          "base_uri": "https://localhost:8080/"
        },
        "outputId": "5cf95c98-afa6-4800-de2c-f3bee7d7951c"
      },
      "execution_count": null,
      "outputs": [
        {
          "output_type": "execute_result",
          "data": {
            "text/plain": [
              "Consumer Demographics\n",
              "College students    450063\n",
              "Families            443276\n",
              "Seniors             444089\n",
              "Young adults        431883\n",
              "Name: Sales Volume, dtype: int64"
            ]
          },
          "metadata": {},
          "execution_count": 14
        }
      ]
    },
    {
      "cell_type": "code",
      "source": [
        "plt.figure(figsize=(7, 5))\n",
        "plt.bar(demographic_sales.index, demographic_sales.values, color='skyblue')\n",
        "plt.xlabel('Consumer Demographics')\n",
        "plt.ylabel('Total Sales Volume')\n",
        "plt.title('Total Sales Volume by Consumer Demographics')\n",
        "plt.show()"
      ],
      "metadata": {
        "colab": {
          "base_uri": "https://localhost:8080/",
          "height": 487
        },
        "id": "jn6fgcJORlLv",
        "outputId": "3fef3347-98de-4ed9-ca6a-7a4bf82f4969"
      },
      "execution_count": null,
      "outputs": [
        {
          "output_type": "display_data",
          "data": {
            "text/plain": [
              "<Figure size 700x500 with 1 Axes>"
            ],
            "image/png": "[encoded data removed]"
          },
          "metadata": {}
        }
      ]
    },
    {
      "cell_type": "markdown",
      "source": [
        "In the above two codes, I have identified the total sales volume contribute by each consumer demographics categories.\n",
        "And, I have also presented those numbers as a bar chart.\n",
        "\n",
        "Bar chart was used as it a good tool of visualations when drawing comparisons.\n",
        "\n",
        "**It's cleary visible that all categories have similar sales volume with college students taking the lead in it. With this, I can suggest the company to add more diverse clothes for such age groups as they have more tendency to buy clothes.**"
      ],
      "metadata": {
        "id": "7sxSqyN0H7mo"
      }
    },
    {
      "cell_type": "code",
      "source": [
        "position_product = df.groupby('Product Position')['Sales Volume'].sum()\n",
        "position_product"
      ],
      "metadata": {
        "colab": {
          "base_uri": "https://localhost:8080/"
        },
        "id": "Y5I--uXeRStt",
        "outputId": "eb6bc417-2eea-42ed-834c-4cf940405717"
      },
      "execution_count": null,
      "outputs": [
        {
          "output_type": "execute_result",
          "data": {
            "text/plain": [
              "Product Position\n",
              "Aisle             605470\n",
              "End-cap           599917\n",
              "Front of Store    563924\n",
              "Name: Sales Volume, dtype: int64"
            ]
          },
          "metadata": {},
          "execution_count": 16
        }
      ]
    },
    {
      "cell_type": "code",
      "source": [
        "plt.figure(figsize=(7, 5))\n",
        "plt.bar(position_product.index, position_product.values, color='pink')\n",
        "plt.xlabel('Product Position')\n",
        "plt.ylabel('Total Sales Volume')\n",
        "plt.title('Total Sales Volume by Product Position')\n",
        "plt.show()"
      ],
      "metadata": {
        "colab": {
          "base_uri": "https://localhost:8080/",
          "height": 487
        },
        "id": "fixk8D6kU0lK",
        "outputId": "18643159-7966-4d72-c027-3f9db0a692b3"
      },
      "execution_count": null,
      "outputs": [
        {
          "output_type": "display_data",
          "data": {
            "text/plain": [
              "<Figure size 700x500 with 1 Axes>"
            ],
            "image/png": "[encoded data removed]"
          },
          "metadata": {}
        }
      ]
    },
    {
      "cell_type": "markdown",
      "source": [
        "Here, I have analyzed and visaulised the contribution of the different product position to sales volume.\n",
        "\n",
        "It can be seen that the front of the store contributes to the least sales, this could be because of many reasons."
      ],
      "metadata": {
        "id": "wkipeplbnjhu"
      }
    },
    {
      "cell_type": "code",
      "source": [
        "category_product = df.groupby('Product Category')['Sales Volume'].sum()\n",
        "category_product"
      ],
      "metadata": {
        "colab": {
          "base_uri": "https://localhost:8080/"
        },
        "id": "s3JgR8lDVNQ2",
        "outputId": "54ee6380-e9bf-4aaf-bd6c-ee4682249134"
      },
      "execution_count": null,
      "outputs": [
        {
          "output_type": "execute_result",
          "data": {
            "text/plain": [
              "Product Category\n",
              "Clothing       618580\n",
              "Electronics    587517\n",
              "Food           563214\n",
              "Name: Sales Volume, dtype: int64"
            ]
          },
          "metadata": {},
          "execution_count": 18
        }
      ]
    },
    {
      "cell_type": "code",
      "source": [
        "plt.figure(figsize=(7, 5))\n",
        "plt.bar(category_product.index, category_product.values, color='purple')\n",
        "plt.xlabel('Product Category')\n",
        "plt.ylabel('Total Sales Volume')\n",
        "plt.title('Total Sales Volume by Product Category')\n",
        "plt.show()"
      ],
      "metadata": {
        "colab": {
          "base_uri": "https://localhost:8080/",
          "height": 487
        },
        "id": "IC1oK7CSVWxg",
        "outputId": "406ab5ae-24b5-46fb-a9a6-c0bf6bc8f273"
      },
      "execution_count": null,
      "outputs": [
        {
          "output_type": "display_data",
          "data": {
            "text/plain": [
              "<Figure size 700x500 with 1 Axes>"
            ],
            "image/png": "[encoded data removed]"
          },
          "metadata": {}
        }
      ]
    },
    {
      "cell_type": "markdown",
      "source": [
        "With the above code, we have analysed that out of all the product categories - clothing contributes the most to sales volume and food the least."
      ],
      "metadata": {
        "id": "M2ienF7Gn8U8"
      }
    },
    {
      "cell_type": "code",
      "source": [
        "promotion_sales = df.groupby('Promotion')['Sales Volume'].sum()\n",
        "promotion_sales"
      ],
      "metadata": {
        "colab": {
          "base_uri": "https://localhost:8080/"
        },
        "id": "TPorTUnWWBpf",
        "outputId": "d410bc81-e489-4fbd-838d-1d1e22cc1411"
      },
      "execution_count": null,
      "outputs": [
        {
          "output_type": "execute_result",
          "data": {
            "text/plain": [
              "Promotion\n",
              "No     929927\n",
              "Yes    839384\n",
              "Name: Sales Volume, dtype: int64"
            ]
          },
          "metadata": {},
          "execution_count": 20
        }
      ]
    },
    {
      "cell_type": "code",
      "source": [
        "plt.figure(figsize=(7, 5))\n",
        "plt.bar(promotion_sales.index, promotion_sales.values, color='orange')\n",
        "plt.xlabel('Promotion')\n",
        "plt.ylabel('Total Sales Volume')\n",
        "plt.title('Total Sales Volume by Promotion')\n",
        "plt.show()"
      ],
      "metadata": {
        "colab": {
          "base_uri": "https://localhost:8080/",
          "height": 487
        },
        "id": "p0VY1hLoMBEu",
        "outputId": "1ea1b015-0e75-46e8-d702-e699fa31bd11"
      },
      "execution_count": null,
      "outputs": [
        {
          "output_type": "display_data",
          "data": {
            "text/plain": [
              "<Figure size 700x500 with 1 Axes>"
            ],
            "image/png": "[encoded data removed]"
          },
          "metadata": {}
        }
      ]
    },
    {
      "cell_type": "markdown",
      "source": [
        "Above code is used to show which products contribute more to sales, the ones which were under promotion or the ones that were not under promotion.\n",
        "\n",
        "This will be used in next section, to evaluate which all products should be kept under promotion to promote furthur."
      ],
      "metadata": {
        "id": "DC6a0QUUoHtW"
      }
    },
    {
      "cell_type": "markdown",
      "source": [
        "**It can be analyzed that Families category ha received the highest foot traffic, meanwhile Young adults have received the least foot traffic.**"
      ],
      "metadata": {
        "id": "p6t1ytx0W2uB"
      }
    },
    {
      "cell_type": "code",
      "source": [
        "ab = df.groupby('Product Position')['Price'].sum()\n",
        "ab"
      ],
      "metadata": {
        "colab": {
          "base_uri": "https://localhost:8080/"
        },
        "id": "SOicolCKaXaQ",
        "outputId": "8802cb22-fa0c-4249-9f2e-b74928746ca7"
      },
      "execution_count": null,
      "outputs": [
        {
          "output_type": "execute_result",
          "data": {
            "text/plain": [
              "Product Position\n",
              "Aisle             9491.29\n",
              "End-cap           9802.03\n",
              "Front of Store    8726.69\n",
              "Name: Price, dtype: float64"
            ]
          },
          "metadata": {},
          "execution_count": 22
        }
      ]
    },
    {
      "cell_type": "code",
      "source": [
        "average_price_by_position = df.groupby('Product Position')['Price'].mean()\n",
        "print(average_price_by_position)"
      ],
      "metadata": {
        "colab": {
          "base_uri": "https://localhost:8080/"
        },
        "id": "vatw_ug6a2op",
        "outputId": "6dddaa14-a352-4d72-9d53-08e76f65338a"
      },
      "execution_count": null,
      "outputs": [
        {
          "output_type": "stream",
          "name": "stdout",
          "text": [
            "Product Position\n",
            "Aisle             27.915559\n",
            "End-cap           28.660906\n",
            "Front of Store    27.442421\n",
            "Name: Price, dtype: float64\n"
          ]
        }
      ]
    },
    {
      "cell_type": "code",
      "source": [
        "average_price_by_position.plot(kind='bar', figsize=(10, 6))\n",
        "plt.title('Average Price by Product Position')\n",
        "plt.xlabel('Product Position')\n",
        "plt.ylabel('Average Price')\n",
        "plt.xticks(rotation=45)  # Rotate x-axis labels for better readability\n",
        "plt.show()"
      ],
      "metadata": {
        "colab": {
          "base_uri": "https://localhost:8080/",
          "height": 627
        },
        "id": "35OcXfVYbEuJ",
        "outputId": "09d71568-1f93-48d5-e119-ebb2cc45f0ae"
      },
      "execution_count": null,
      "outputs": [
        {
          "output_type": "display_data",
          "data": {
            "text/plain": [
              "<Figure size 1000x600 with 1 Axes>"
            ],
            "image/png": "[encoded data removed]"
          },
          "metadata": {}
        }
      ]
    },
    {
      "cell_type": "markdown",
      "source": [
        "# BUSINESS QUESTIONS\n",
        "\n"
      ],
      "metadata": {
        "id": "E97Hlwqua3fJ"
      }
    },
    {
      "cell_type": "markdown",
      "source": [
        "Q1) What is the average price of each product category ?"
      ],
      "metadata": {
        "id": "ge99-CT5lF2E"
      }
    },
    {
      "cell_type": "code",
      "source": [
        "average_price_by_category = df.groupby('Product Category')['Price'].mean()\n",
        "print(average_price_by_category)"
      ],
      "metadata": {
        "colab": {
          "base_uri": "https://localhost:8080/"
        },
        "id": "PXWVbh4sp1oF",
        "outputId": "3a6113f7-9277-49c6-8073-f11d96b86706"
      },
      "execution_count": null,
      "outputs": [
        {
          "output_type": "stream",
          "name": "stdout",
          "text": [
            "Product Category\n",
            "Clothing       27.750000\n",
            "Electronics    27.851101\n",
            "Food           28.474049\n",
            "Name: Price, dtype: float64\n"
          ]
        }
      ]
    },
    {
      "cell_type": "markdown",
      "source": [
        "About the code -\n",
        "\n",
        "I have used the group by function to evaluate the price of different individual categories. And, with the mean function it gives the average of those prices."
      ],
      "metadata": {
        "id": "FTMKSgHTrsOJ"
      }
    },
    {
      "cell_type": "markdown",
      "source": [
        "It can be seen that the price of food on average is the highest.\n",
        "\n",
        "Also, we have observed in data exploration that the sales volumne of the food category is the least, followed by electronics and then clothing which has highest contribution to the sales.\n",
        "\n",
        "Next, in this question, I will be comparing the average price difference between our competitor's and our pricing."
      ],
      "metadata": {
        "id": "hKcK6MQZr6-Q"
      }
    },
    {
      "cell_type": "code",
      "source": [
        "company_food_prices = df[df['Product Category'] == 'Food']['Price'].mean()\n",
        "competitor_food_prices = df[df['Product Category'] == 'Food'][\"Competitor's Price\"].mean()\n",
        "print(company_food_prices)\n",
        "print(competitor_food_prices)"
      ],
      "metadata": {
        "colab": {
          "base_uri": "https://localhost:8080/"
        },
        "id": "QxuyDBJxq7Zz",
        "outputId": "968f9978-2a26-46fd-aa43-b44af5cce290"
      },
      "execution_count": null,
      "outputs": [
        {
          "output_type": "stream",
          "name": "stdout",
          "text": [
            "28.474049079754604\n",
            "25.940613496932514\n"
          ]
        }
      ]
    },
    {
      "cell_type": "markdown",
      "source": [
        "About the code -\n",
        "\n",
        "Here, by using df['Product Category'] == 'Food' - I am able to retrive the average price of just one particular category.\n",
        "\n",
        "For both, competitor and company's price."
      ],
      "metadata": {
        "id": "5SAXbgFTsJ2O"
      }
    },
    {
      "cell_type": "code",
      "source": [
        "plt.bar(['Company Food Price', 'Competitor Food Price'], [company_food_prices, competitor_food_prices], color=['pink', 'skyblue'])\n",
        "plt.title('Average Price Comparison ')\n",
        "plt.ylabel('Average Price')\n",
        "plt.show()"
      ],
      "metadata": {
        "colab": {
          "base_uri": "https://localhost:8080/",
          "height": 452
        },
        "id": "Wofv_pUWromj",
        "outputId": "f0406031-8567-41e9-ecaf-0ce311fdb131"
      },
      "execution_count": null,
      "outputs": [
        {
          "output_type": "display_data",
          "data": {
            "text/plain": [
              "<Figure size 640x480 with 1 Axes>"
            ],
            "image/png": "[encoded data removed]"
          },
          "metadata": {}
        }
      ]
    },
    {
      "cell_type": "markdown",
      "source": [
        "About the code -\n",
        "- plt.bar code - I have allocated names for each bar. and have allocated colors for each of them also.\n",
        "- plt.title - is used to give title to the graph\n",
        "- plt.ylabel - it gives label to the y axis\n",
        "- plt.show - enables the user to see the graph"
      ],
      "metadata": {
        "id": "X8zdnysGscE7"
      }
    },
    {
      "cell_type": "markdown",
      "source": [
        "With the above output, I would say that the price of food category of our company on an average is much higher than that of our competitors. And, that is being reflected on the sales contribution made by the category as well.\n",
        "\n",
        "The prices of this particular category must be looked into."
      ],
      "metadata": {
        "id": "Up6LXQYQqY8B"
      }
    },
    {
      "cell_type": "markdown",
      "source": [
        "Q2) Which product positing generates the highest sales under each product categories?"
      ],
      "metadata": {
        "id": "72qctoGXtfgf"
      }
    },
    {
      "cell_type": "code",
      "source": [
        "position_product = df.groupby('Product Position')['Sales Volume'].sum()\n",
        "position_product"
      ],
      "metadata": {
        "colab": {
          "base_uri": "https://localhost:8080/"
        },
        "id": "q7BZRRF_ttNA",
        "outputId": "78d80bee-08b6-4907-b06e-f5201b885e8f"
      },
      "execution_count": null,
      "outputs": [
        {
          "output_type": "execute_result",
          "data": {
            "text/plain": [
              "Product Position\n",
              "Aisle             605470\n",
              "End-cap           599917\n",
              "Front of Store    563924\n",
              "Name: Sales Volume, dtype: int64"
            ]
          },
          "metadata": {},
          "execution_count": 28
        }
      ]
    },
    {
      "cell_type": "markdown",
      "source": [
        "About the code -\n",
        "\n",
        "I have used groupby function to get to know the total sales volume of all diferent product position. And then further used the sum function to summarize it."
      ],
      "metadata": {
        "id": "V1Bh1te-tIga"
      }
    },
    {
      "cell_type": "markdown",
      "source": [
        "This code gives a whole summation of how much sales are produced under different product position."
      ],
      "metadata": {
        "id": "f-F9sWypuL6Z"
      }
    },
    {
      "cell_type": "code",
      "source": [
        "position_category_sales = df.groupby(['Product Position', 'Product Category'])['Sales Volume'].sum()\n",
        "position_category_sales"
      ],
      "metadata": {
        "colab": {
          "base_uri": "https://localhost:8080/"
        },
        "id": "953rgTZPt63z",
        "outputId": "d1dcc4a3-a022-47e1-984f-f10ca8ec3675"
      },
      "execution_count": null,
      "outputs": [
        {
          "output_type": "execute_result",
          "data": {
            "text/plain": [
              "Product Position  Product Category\n",
              "Aisle             Clothing            205272\n",
              "                  Electronics         208371\n",
              "                  Food                191827\n",
              "End-cap           Clothing            215166\n",
              "                  Electronics         205724\n",
              "                  Food                179027\n",
              "Front of Store    Clothing            198142\n",
              "                  Electronics         173422\n",
              "                  Food                192360\n",
              "Name: Sales Volume, dtype: int64"
            ]
          },
          "metadata": {},
          "execution_count": 29
        }
      ]
    },
    {
      "cell_type": "markdown",
      "source": [
        "About the code -\n",
        "\n",
        "In this case, i have used three columns under groupby as I wanted to show the sum of of different positions of different product categories."
      ],
      "metadata": {
        "id": "ZymfWFG5ttUZ"
      }
    },
    {
      "cell_type": "markdown",
      "source": [
        "The above code furthur classifies the sales produced by each category with respect to their product position."
      ],
      "metadata": {
        "id": "psrgKv6lwy7x"
      }
    },
    {
      "cell_type": "code",
      "source": [
        "position_category_sales_plot = position_category_sales.unstack()\n",
        "\n",
        "position_category_sales_plot.plot(kind='bar', figsize=(10, 9))\n",
        "plt.title('Sales Volume by Product Position and Product Category')\n",
        "plt.xlabel('Product Position')\n",
        "plt.ylabel('Sales Volume')\n",
        "plt.xticks(rotation=360)\n",
        "plt.legend(title='Product Category')\n",
        "plt.show()"
      ],
      "metadata": {
        "colab": {
          "base_uri": "https://localhost:8080/",
          "height": 795
        },
        "id": "OMPYdsEDuzmP",
        "outputId": "f23de21d-a891-4bf8-b748-632639b701a1"
      },
      "execution_count": null,
      "outputs": [
        {
          "output_type": "display_data",
          "data": {
            "text/plain": [
              "<Figure size 1000x900 with 1 Axes>"
            ],
            "image/png": "[encoded data removed]"
          },
          "metadata": {}
        }
      ]
    },
    {
      "cell_type": "markdown",
      "source": [
        "About the code -\n",
        "\n",
        "For visualisation I have here used grouped bar charts. With the unstack() function, I have unstacked the original outcome of product_category_sales as it will be presentable.\n",
        "\n",
        "- Further i have assigned kind as bar, which creates a bar chart of width = 10 and height = 9.\n",
        "- plt.xticks(rotation=360) - rotates the title under x-axis such as aisle, end-cap, front of store.\n",
        "- The code legend title is used to add title to the small table at the top of the graph."
      ],
      "metadata": {
        "id": "-hPV0RtfuU7E"
      }
    },
    {
      "cell_type": "markdown",
      "source": [
        "I have used grouped bar chart to visualize the sales volume of each product category under each product position. Grouped bar chart has helped to easily visualize and present it in an understanable manner.\n",
        "\n",
        "- Aisle has created the largest sales volume, under which electronics have done very well.\n",
        "- Under End-cap, clothing has create the largest sales volume.\n",
        "- Under front of the store, again clothing has done well.\n",
        "\n",
        "With this, I would like to advise the business to position different product category product in positions they are more favoured in.\n",
        "1. Electronics are sold the most in Aisle.\n",
        "2. Clothing are sold more at the end-cap.\n",
        "3. Food is sold more at the Aisle.\n",
        "\n",
        "With this, more products should be placed accordingly.\n",
        "\n",
        "In regards of the front of the store, electronics and clothing has been sold on a similar level. Neverthless, all three categories should be kept in the front of the store to attract the customers."
      ],
      "metadata": {
        "id": "_LVmhYlcuSpX"
      }
    },
    {
      "cell_type": "markdown",
      "source": [
        "Q3) Which category of consumer demographics contrubited more to which particular product category ?"
      ],
      "metadata": {
        "id": "hNsvM3-U1dc8"
      }
    },
    {
      "cell_type": "code",
      "source": [
        "questionthree = df.groupby(['Consumer Demographics', 'Product Category'])['Sales Volume'].sum()\n",
        "questionthree"
      ],
      "metadata": {
        "colab": {
          "base_uri": "https://localhost:8080/"
        },
        "id": "FRs5ihrs2GnW",
        "outputId": "6ece3248-715d-42bf-b625-75271f58f68f"
      },
      "execution_count": null,
      "outputs": [
        {
          "output_type": "execute_result",
          "data": {
            "text/plain": [
              "Consumer Demographics  Product Category\n",
              "College students       Clothing            174828\n",
              "                       Electronics         135410\n",
              "                       Food                139825\n",
              "Families               Clothing            169568\n",
              "                       Electronics         135220\n",
              "                       Food                138488\n",
              "Seniors                Clothing            124201\n",
              "                       Electronics         161576\n",
              "                       Food                158312\n",
              "Young adults           Clothing            149983\n",
              "                       Electronics         155311\n",
              "                       Food                126589\n",
              "Name: Sales Volume, dtype: int64"
            ]
          },
          "metadata": {},
          "execution_count": 31
        }
      ]
    },
    {
      "cell_type": "markdown",
      "source": [
        "About the code -\n",
        "\n",
        "In this case, i have used three columns under groupby as I wanted to show the sum of of different demographics of different product categories."
      ],
      "metadata": {
        "id": "UtZ-4kqBva9i"
      }
    },
    {
      "cell_type": "markdown",
      "source": [
        "Above we can identify the sales contribution of each demographics under each product category."
      ],
      "metadata": {
        "id": "cDG4Xzlu8kI-"
      }
    },
    {
      "cell_type": "code",
      "source": [
        "questionthree_plot = questionthree.unstack()\n",
        "\n",
        "questionthree_plot.plot(kind='bar', stacked = True, figsize=(10, 9))\n",
        "plt.title('Sales Volume by Consumer Demographics and Product Category')\n",
        "plt.xlabel('Consumer Demographics')\n",
        "plt.ylabel('Sales Volume')\n",
        "plt.xticks(rotation=360)\n",
        "plt.legend(title='Product Category')\n",
        "plt.show()"
      ],
      "metadata": {
        "colab": {
          "base_uri": "https://localhost:8080/",
          "height": 795
        },
        "id": "a-tiTHUf3VKu",
        "outputId": "844cdf04-6bc8-4d0b-ce79-fc2706190ed8"
      },
      "execution_count": null,
      "outputs": [
        {
          "output_type": "display_data",
          "data": {
            "text/plain": [
              "<Figure size 1000x900 with 1 Axes>"
            ],
            "image/png": "[encoded data removed]"
          },
          "metadata": {}
        }
      ]
    },
    {
      "cell_type": "markdown",
      "source": [
        "About the code -\n",
        "\n",
        "For visualisation I have here used grouped bar charts. With the unstack() function, I have unstacked the original outcome of questionthree as it will be more presentable.\n",
        "\n",
        "- Further i have assigned kind as bar, which creates a bar chart of width = 10 and height = 9 and with stacked being set to true, the charts are stacked.\n",
        "- plt.xticks(rotation=360) - rotates the title under x-axis.\n",
        "- The code legend title is used to add title to the small table at the top of the graph."
      ],
      "metadata": {
        "id": "u0l62CkCrd5N"
      }
    },
    {
      "cell_type": "markdown",
      "source": [
        "Observations -\n",
        "- College Students contribute the most in the clothing section, and least in the electronics.\n",
        "- Families contribute the most in the clothing section, and the least in the electronics.\n",
        "- Seniors spend the most on electronics and the least in clothing.\n",
        "- Young adults spend the most in electronics and least in food.\n",
        "\n",
        "Here are some of my suggestion based on the above observations:\n",
        "- The reason for college students to not contribute in electronics could be that they do not have enough money. So, promote student discounts - which especifically helps such students.\n",
        "\n",
        "- It can be seen that seniors do not buy clothing, so the company can focus it's on producing clothes for categories that are contributing more. And as for senior can try bringing in more old people friendly electronics and food to promote sales.\n",
        "\n",
        "- For young adults, the purchase of electronics is quite high. With this, they can promote even more trendy tech savy products as their focus gets shifted to the new technology.\n",
        "\n",
        "- And it should be noted, that the food contribution is less in all the categories. The company needs to evaluate the prices and work on it to increase the sales.\n",
        "\n"
      ],
      "metadata": {
        "id": "yX0glorb_8ZC"
      }
    },
    {
      "cell_type": "markdown",
      "source": [
        "Q4) What is the relationship between foot traffic and other columns ? Is it of any significant to the business ?"
      ],
      "metadata": {
        "id": "0EpfzrDb53_J"
      }
    },
    {
      "cell_type": "code",
      "source": [
        "questionfour = df.groupby('Foot Traffic')['Price'].mean()\n",
        "print(questionfour)"
      ],
      "metadata": {
        "colab": {
          "base_uri": "https://localhost:8080/"
        },
        "id": "hGBiBpxz53kr",
        "outputId": "03012a73-78f1-4d0e-e805-6a79841f66d7"
      },
      "execution_count": null,
      "outputs": [
        {
          "output_type": "stream",
          "name": "stdout",
          "text": [
            "Foot Traffic\n",
            "High      28.203912\n",
            "Low       28.605186\n",
            "Medium    27.277544\n",
            "Name: Price, dtype: float64\n"
          ]
        }
      ]
    },
    {
      "cell_type": "markdown",
      "source": [
        "About the code -\n",
        "\n",
        "I have used the group by function to evaluate the foot traffic and the average prices under different foot traffic.\n"
      ],
      "metadata": {
        "id": "UY0JjkVHwfdM"
      }
    },
    {
      "cell_type": "code",
      "source": [
        "questionfour_p2 = df.groupby('Foot Traffic')['Sales Volume'].mean()\n",
        "print(questionfour_p2)"
      ],
      "metadata": {
        "colab": {
          "base_uri": "https://localhost:8080/"
        },
        "id": "hPoIX0GMxucp",
        "outputId": "341d1669-eeea-4c37-e8db-b9c5ad473f27"
      },
      "execution_count": null,
      "outputs": [
        {
          "output_type": "stream",
          "name": "stdout",
          "text": [
            "Foot Traffic\n",
            "High      1759.311765\n",
            "Low       1803.767081\n",
            "Medium    1746.544379\n",
            "Name: Sales Volume, dtype: float64\n"
          ]
        }
      ]
    },
    {
      "cell_type": "markdown",
      "source": [
        "So here are few observations that I have made -\n",
        "\n",
        "- The average prices of products under high foot traffic is high. Meanwhile, the average sales do not correspond to it as it is not particulary high.\n",
        "- The average prices of products under low foot traffic is the highest. But here given its position and price - the sales volume makes sense. And, it is the highest among all.\n",
        "- The average prices of products under medium foot traffic is the lowest. But, the sales volume is almost as equal to that of the higest foot traffic.\n",
        "\n",
        "Technically, high foot traffic should have the highest sales but because of those products having high prices - the contribution is not significant. Such products should we re-positioned or prices should be set low to attract more sales. High Traffic is the area that could be improved furthur to enhance sales.\n",
        "\n",
        "The low tarffic area has the highest prices products and is producing the highest average sales, this in my opinion a good startegy."
      ],
      "metadata": {
        "id": "c9giBguezqDx"
      }
    },
    {
      "cell_type": "code",
      "source": [
        "questionfour.plot(kind='pie', autopct='%1.1f%%', figsize=(8, 8))\n",
        "plt.title('Average Price by Foot Traffic Level')\n",
        "plt.ylabel('')\n",
        "plt.show()\n",
        "\n",
        "questionfour_p2.plot(kind='pie', autopct='%1.1f%%', figsize=(8, 8), startangle=90)\n",
        "plt.title('Average Sales Volume by Foot Traffic Level')\n",
        "plt.ylabel('')\n",
        "plt.show()"
      ],
      "metadata": {
        "colab": {
          "base_uri": "https://localhost:8080/",
          "height": 1000
        },
        "id": "1G69wNJk6-Ug",
        "outputId": "b4c2caa2-a862-4f16-a67d-f00c38b87c4f"
      },
      "execution_count": null,
      "outputs": [
        {
          "output_type": "display_data",
          "data": {
            "text/plain": [
              "<Figure size 800x800 with 1 Axes>"
            ],
            "image/png": "[encoded data removed]"
          },
          "metadata": {}
        },
        {
          "output_type": "display_data",
          "data": {
            "text/plain": [
              "<Figure size 800x800 with 1 Axes>"
            ],
            "image/png": "[encoded data removed]"
          },
          "metadata": {}
        }
      ]
    },
    {
      "cell_type": "markdown",
      "source": [
        "About the code -\n",
        "\n",
        "Here the type of chart I have used is pie (kind = pie) whose figure size is 8 width and 8 length. And with autopct='%1.1f%%' - I have converted the figures into percentage for better and more understanable visuals.\n",
        "\n",
        "By default the ylable is being printed as prices, which does not look presentable so by adding plt.ylabel('')  - I have coded it as there should be no heading for that particular label.\n",
        "\n",
        "startangle=90 is used determin the starting angle of the pie chart. It is used for better visualisations"
      ],
      "metadata": {
        "id": "Wrf_rzUow2cj"
      }
    },
    {
      "cell_type": "markdown",
      "source": [
        "Here, I have presented two pie charts showing the percentage of average prices of products and sales volume under each foot traffic category."
      ],
      "metadata": {
        "id": "gYIsp_UQxqJJ"
      }
    },
    {
      "cell_type": "markdown",
      "source": [
        "Q5) Which products should be kept for promotion in future ?"
      ],
      "metadata": {
        "id": "Kgv-3A8Mw4yh"
      }
    },
    {
      "cell_type": "code",
      "source": [
        "product_promotion_sales = df.groupby(['Product Category', 'Promotion'])['Sales Volume'].sum()\n",
        "product_promotion_sales"
      ],
      "metadata": {
        "colab": {
          "base_uri": "https://localhost:8080/"
        },
        "id": "SMTxaNww2SWu",
        "outputId": "7787acbb-4eb3-4394-b92c-115a026d44d5"
      },
      "execution_count": null,
      "outputs": [
        {
          "output_type": "execute_result",
          "data": {
            "text/plain": [
              "Product Category  Promotion\n",
              "Clothing          No           351390\n",
              "                  Yes          267190\n",
              "Electronics       No           296803\n",
              "                  Yes          290714\n",
              "Food              No           281734\n",
              "                  Yes          281480\n",
              "Name: Sales Volume, dtype: int64"
            ]
          },
          "metadata": {},
          "execution_count": 36
        }
      ]
    },
    {
      "cell_type": "markdown",
      "source": [
        "About the code -\n",
        "\n",
        "Group by is used to get a stacked view of different categories and there sales performance under there promotion status.\n"
      ],
      "metadata": {
        "id": "R-qPgbti36uO"
      }
    },
    {
      "cell_type": "code",
      "source": [
        "product_promotion_sales_plot = product_promotion_sales.unstack()\n",
        "\n",
        "product_promotion_sales_plot.plot(kind='barh', figsize=(10, 6))\n",
        "\n",
        "plt.title('Total Sales Volume by Product Category and Promotion Status')\n",
        "plt.xlabel('Product Category')\n",
        "plt.ylabel('Total Sales Volume')\n",
        "plt.xticks(rotation=360)\n",
        "plt.legend(title='Promotion Status')\n",
        "\n",
        "plt.show()"
      ],
      "metadata": {
        "colab": {
          "base_uri": "https://localhost:8080/",
          "height": 564
        },
        "id": "iit_m5qY3anx",
        "outputId": "9f8d2823-9dec-4773-830d-4bfb050d4f3e"
      },
      "execution_count": null,
      "outputs": [
        {
          "output_type": "display_data",
          "data": {
            "text/plain": [
              "<Figure size 1000x600 with 1 Axes>"
            ],
            "image/png": "[encoded data removed]"
          },
          "metadata": {}
        }
      ]
    },
    {
      "cell_type": "markdown",
      "source": [
        "About the code -\n",
        "\n",
        "First I have unstacked the output form the first code to create better visualisation.\n",
        "\n",
        "Then here, I have used horizontal bar charts to see a better version of comparison."
      ],
      "metadata": {
        "id": "QfUZw3ms5Fpj"
      }
    },
    {
      "cell_type": "markdown",
      "source": [
        "Here are the observations -\n",
        "\n",
        "- The sales volume of products under promotion for food, has a very similar sales volume.\n",
        "- The sales volume of products under promotion for electonics is lower then that of which are not under sale.\n",
        "- The sales volume of products under promotion for clothing is very low then that of which are not under sale.\n",
        "\n",
        "Since, the prices of food is in genera high in the company. They can promote them even more to create higher income.\n",
        "\n",
        "And promotion of electronics will also help in increasing the sales.\n",
        "\n",
        "In case of clothing, they are performing quite well as it is and should be continued as such."
      ],
      "metadata": {
        "id": "x1BaUjPJ5kcm"
      }
    },
    {
      "cell_type": "markdown",
      "source": [
        "Q6) What the prices of products that has more sales volume ? Is there a trend around it?"
      ],
      "metadata": {
        "id": "eIw5pcLp7AfV"
      }
    },
    {
      "cell_type": "code",
      "source": [
        "max = df['Price'].max()\n",
        "print(\"Maximum Price:\", max)"
      ],
      "metadata": {
        "colab": {
          "base_uri": "https://localhost:8080/"
        },
        "id": "umoocBS77U-A",
        "outputId": "57392886-1dc4-4260-a8e9-bfd5d4d62d9e"
      },
      "execution_count": null,
      "outputs": [
        {
          "output_type": "stream",
          "name": "stdout",
          "text": [
            "Maximum Price: 49.98\n"
          ]
        }
      ]
    },
    {
      "cell_type": "markdown",
      "source": [
        "About the code -\n",
        "\n",
        "I have used the max funtion to get ther maximum value under the Price column."
      ],
      "metadata": {
        "id": "1hYn2iTq_1pV"
      }
    },
    {
      "cell_type": "markdown",
      "source": [
        "Here, the maximum price that a product carries is 49.98 dollar."
      ],
      "metadata": {
        "id": "Cozkh8VW_-QT"
      }
    },
    {
      "cell_type": "code",
      "source": [
        "min = df['Price'].min()\n",
        "print(\"Minimum Price:\", min)"
      ],
      "metadata": {
        "colab": {
          "base_uri": "https://localhost:8080/"
        },
        "id": "dxFqwwRM80w8",
        "outputId": "95fac67a-0701-4fbd-cfef-0e856d640fe6"
      },
      "execution_count": null,
      "outputs": [
        {
          "output_type": "stream",
          "name": "stdout",
          "text": [
            "Minimum Price: 5.06\n"
          ]
        }
      ]
    },
    {
      "cell_type": "markdown",
      "source": [
        "About the code -\n",
        "\n",
        "I have used the min function here to get the minimum value under the price column.\n",
        "\n"
      ],
      "metadata": {
        "id": "fQLZEhJ1AGms"
      }
    },
    {
      "cell_type": "markdown",
      "source": [
        "Here, the minimum price that a product carries is 5.06 dollar.\n",
        "\n",
        "With this, we can say that all of the product ranges between 5 to 50 dollars.\n",
        "\n",
        "On the basis of that, I have divided the prices into low prices and high prices in the the next code. I have taken the mid value as 25 and divided on the basis of that."
      ],
      "metadata": {
        "id": "d7FvCLklAOkA"
      }
    },
    {
      "cell_type": "code",
      "source": [
        "high_prices = df[df[\"Price\"] >= 25]\n",
        "\n",
        "low_prices = df[df[\"Price\"] < 25 ]\n",
        "\n",
        "print(high_prices)\n",
        "print(low_prices)"
      ],
      "metadata": {
        "colab": {
          "base_uri": "https://localhost:8080/"
        },
        "id": "wqjRmGs69G0N",
        "outputId": "7694afdc-36da-4486-cfbb-2b8635fa903a"
      },
      "execution_count": null,
      "outputs": [
        {
          "output_type": "stream",
          "name": "stdout",
          "text": [
            "     Product ID Product Position  Price  Competitor's Price Promotion  \\\n",
            "2        180176          End-cap  43.16               38.37       Yes   \n",
            "3        112917            Aisle  42.26               38.98       Yes   \n",
            "4        192936          End-cap  47.94               45.59        No   \n",
            "5        117590          End-cap  34.50               34.34        No   \n",
            "6        189118   Front of Store  41.11               40.15       Yes   \n",
            "..          ...              ...    ...                 ...       ...   \n",
            "990      180566            Aisle  33.32               32.90       Yes   \n",
            "991      124273          End-cap  44.99               44.48       Yes   \n",
            "992      159902            Aisle  34.75               31.60        No   \n",
            "993      163182            Aisle  43.05               41.66        No   \n",
            "996      146858   Front of Store  47.72               46.78        No   \n",
            "\n",
            "    Foot Traffic Consumer Demographics Product Category Seasonal  Sales Volume  \n",
            "2         Medium          Young adults      Electronics      Yes          2220  \n",
            "3            Low              Families         Clothing      Yes          1568  \n",
            "4         Medium      College students         Clothing      Yes          2942  \n",
            "5         Medium               Seniors         Clothing       No          2968  \n",
            "6           High      College students         Clothing      Yes           952  \n",
            "..           ...                   ...              ...      ...           ...  \n",
            "990         High      College students         Clothing      Yes          1897  \n",
            "991         High          Young adults             Food      Yes          2343  \n",
            "992       Medium               Seniors      Electronics       No          1889  \n",
            "993          Low               Seniors      Electronics       No          1390  \n",
            "996       Medium      College students             Food      Yes           565  \n",
            "\n",
            "[567 rows x 10 columns]\n",
            "     Product ID Product Position  Price  Competitor's Price Promotion  \\\n",
            "0        185102            Aisle  17.07               16.16        No   \n",
            "1        188771            Aisle  17.41               13.13        No   \n",
            "7        182157            Aisle  15.75               12.30        No   \n",
            "11       140028            Aisle  12.15                9.39       Yes   \n",
            "13       151396   Front of Store  19.81               17.04       Yes   \n",
            "..          ...              ...    ...                 ...       ...   \n",
            "994      121303   Front of Store  24.35               23.42       Yes   \n",
            "995      162658          End-cap  11.56                8.61        No   \n",
            "997      174565            Aisle  21.30               18.71       Yes   \n",
            "998      160629            Aisle  22.82               19.13        No   \n",
            "999      150654          End-cap   6.38                5.25       Yes   \n",
            "\n",
            "    Foot Traffic Consumer Demographics Product Category Seasonal  Sales Volume  \n",
            "0         Medium              Families         Clothing       No          2823  \n",
            "1            Low               Seniors         Clothing       No           654  \n",
            "7            Low      College students         Clothing       No          2421  \n",
            "11          High      College students             Food      Yes          1260  \n",
            "13        Medium              Families             Food      Yes           729  \n",
            "..           ...                   ...              ...      ...           ...  \n",
            "994         High          Young adults         Clothing      Yes          1130  \n",
            "995       Medium              Families      Electronics      Yes          1133  \n",
            "997         High               Seniors      Electronics       No           890  \n",
            "998       Medium               Seniors      Electronics      Yes          2538  \n",
            "999       Medium          Young adults      Electronics       No          2884  \n",
            "\n",
            "[433 rows x 10 columns]\n"
          ]
        }
      ]
    },
    {
      "cell_type": "markdown",
      "source": [
        "About the code -\n",
        "\n",
        "Here, the df[\"Price\"] selectes the price column from our defined dataset. and >= 25 sets the criteria to select all the values that are more than or equal to 25 and put them in a variable called low_prices.\n",
        "\n",
        "And the same has been done for high_prices."
      ],
      "metadata": {
        "id": "UKO9QFC8Bzrl"
      }
    },
    {
      "cell_type": "markdown",
      "source": [
        "Here, I have created two seperate classes that will be storing values of different types of prices. This will help in furthur analysis."
      ],
      "metadata": {
        "id": "zS0q3o86CndJ"
      }
    },
    {
      "cell_type": "code",
      "source": [
        "low_prices['Sales Volume'].sum()"
      ],
      "metadata": {
        "colab": {
          "base_uri": "https://localhost:8080/"
        },
        "id": "rtzPETOTA2mw",
        "outputId": "cce86696-786e-4d9d-b492-ea09bc63865b"
      },
      "execution_count": null,
      "outputs": [
        {
          "output_type": "execute_result",
          "data": {
            "text/plain": [
              "753911"
            ]
          },
          "metadata": {},
          "execution_count": 41
        }
      ]
    },
    {
      "cell_type": "code",
      "source": [
        "high_prices['Sales Volume'].sum()"
      ],
      "metadata": {
        "colab": {
          "base_uri": "https://localhost:8080/"
        },
        "id": "l87qCRj7Bizc",
        "outputId": "9d013807-e4c6-4159-8058-cb8e717b180d"
      },
      "execution_count": null,
      "outputs": [
        {
          "output_type": "execute_result",
          "data": {
            "text/plain": [
              "1015400"
            ]
          },
          "metadata": {},
          "execution_count": 42
        }
      ]
    },
    {
      "cell_type": "markdown",
      "source": [
        "About the code -\n",
        "\n",
        "In the above two codes I have taken the sum of sales volume under each prices categories that I have made"
      ],
      "metadata": {
        "id": "eCvj68SzD9DB"
      }
    },
    {
      "cell_type": "markdown",
      "source": [
        "Here, it can be seen that the low prices prodcuts have contributed more to the sales then the high prices ones."
      ],
      "metadata": {
        "id": "NKTyCvMIEQJH"
      }
    },
    {
      "cell_type": "code",
      "source": [
        "low_prices.value_counts()"
      ],
      "metadata": {
        "colab": {
          "base_uri": "https://localhost:8080/"
        },
        "id": "dxupLea9F4OE",
        "outputId": "b8035988-dc91-4bfa-c34c-1b4e405e045e"
      },
      "execution_count": null,
      "outputs": [
        {
          "output_type": "execute_result",
          "data": {
            "text/plain": [
              "Product ID  Product Position  Price  Competitor's Price  Promotion  Foot Traffic  Consumer Demographics  Product Category  Seasonal  Sales Volume\n",
              "110295      End-cap           13.10  8.47                Yes        Low           Young adults           Electronics       No        1448            1\n",
              "170937      Front of Store    16.58  15.92               No         Low           Young adults           Food              No        507             1\n",
              "172517      Aisle             23.94  19.70               No         Medium        Seniors                Electronics       Yes       808             1\n",
              "172364      Aisle             12.30  10.30               Yes        High          College students       Clothing          No        2931            1\n",
              "172344      End-cap           15.42  13.77               Yes        Medium        Families               Clothing          Yes       2030            1\n",
              "                                                                                                                                                    ..\n",
              "143251      Aisle             9.89   8.88                No         Low           Seniors                Electronics       No        2354            1\n",
              "143152      Front of Store    14.78  10.60               Yes        Medium        Seniors                Electronics       No        2046            1\n",
              "143069      End-cap           17.23  13.46               No         High          College students       Electronics       Yes       677             1\n",
              "142257      Aisle             21.70  18.91               Yes        Medium        Seniors                Clothing          Yes       1180            1\n",
              "199976      Front of Store    19.66  18.89               No         High          College students       Clothing          No        1641            1\n",
              "Name: count, Length: 433, dtype: int64"
            ]
          },
          "metadata": {},
          "execution_count": 43
        }
      ]
    },
    {
      "cell_type": "code",
      "source": [
        "high_prices.value_counts()"
      ],
      "metadata": {
        "colab": {
          "base_uri": "https://localhost:8080/"
        },
        "id": "zCQ2YGSUGSXR",
        "outputId": "f50f3288-84e4-46f3-de8a-44ed42e9626a"
      },
      "execution_count": null,
      "outputs": [
        {
          "output_type": "execute_result",
          "data": {
            "text/plain": [
              "Product ID  Product Position  Price  Competitor's Price  Promotion  Foot Traffic  Consumer Demographics  Product Category  Seasonal  Sales Volume\n",
              "110033      Front of Store    40.15  39.38               Yes        Low           Families               Electronics       Yes       1998            1\n",
              "167981      End-cap           37.40  37.29               No         High          College students       Clothing          No        730             1\n",
              "166728      Aisle             25.92  23.68               Yes        High          College students       Electronics       No        542             1\n",
              "167218      End-cap           35.35  34.40               No         Low           College students       Clothing          No        2621            1\n",
              "167351      Aisle             33.05  31.73               No         Low           College students       Electronics       No        961             1\n",
              "                                                                                                                                                    ..\n",
              "137925      End-cap           45.44  41.87               No         Medium        Young adults           Electronics       No        2336            1\n",
              "137617      End-cap           46.48  43.92               No         Medium        Young adults           Electronics       Yes       931             1\n",
              "137598      Aisle             38.21  37.69               No         Medium        Families               Electronics       Yes       2839            1\n",
              "137530      Front of Store    45.45  41.12               No         Medium        College students       Food              No        1522            1\n",
              "199887      Front of Store    29.76  29.19               No         High          Seniors                Food              Yes       1109            1\n",
              "Name: count, Length: 567, dtype: int64"
            ]
          },
          "metadata": {},
          "execution_count": 44
        }
      ]
    },
    {
      "cell_type": "markdown",
      "source": [
        "From the above two codes, we can conclude that total product under low prices are 433 and total products under high prices are 567."
      ],
      "metadata": {
        "id": "91AAZJEfGXXR"
      }
    },
    {
      "cell_type": "code",
      "source": [
        "labels = ['Low Prices', 'High Prices']\n",
        "sizes = [low_prices['Sales Volume'].sum(), high_prices['Sales Volume'].sum()]\n",
        "\n",
        "plt.pie(sizes, labels=labels, autopct='%1.1f%%')\n",
        "plt.title('Total Sales Volume Distribution')\n",
        "plt.show()"
      ],
      "metadata": {
        "colab": {
          "base_uri": "https://localhost:8080/",
          "height": 428
        },
        "id": "qnDp1IrTDrLl",
        "outputId": "e2368f35-6a6d-460d-c4b4-0c60bb82215d"
      },
      "execution_count": null,
      "outputs": [
        {
          "output_type": "display_data",
          "data": {
            "text/plain": [
              "<Figure size 640x480 with 1 Axes>"
            ],
            "image/png": "[encoded data removed]"
          },
          "metadata": {}
        }
      ]
    },
    {
      "cell_type": "markdown",
      "source": [
        "In the above code I have created a pie chart reprersenting the contribution of different price category."
      ],
      "metadata": {
        "id": "C8wSgYlAJFd9"
      }
    },
    {
      "cell_type": "markdown",
      "source": [
        "With the above analysis, we can see that most of the products are under high prices category and they are the ones that have contributed more to the sales volume by a lot.\n",
        "\n",
        "This indicated that the consumer are buying products that has a pricing more than 25 dollars a lot.\n",
        "\n",
        "With this, the company can think about including even more products belonging to such categories as they are accepted by the consumers."
      ],
      "metadata": {
        "id": "7FpxyEAPJlKF"
      }
    },
    {
      "cell_type": "markdown",
      "source": [
        "Q7) Which product category should have more seasonal products?"
      ],
      "metadata": {
        "id": "g_TWr_19Kd_o"
      }
    },
    {
      "cell_type": "code",
      "source": [
        "questionseven = df.groupby(['Product Category', 'Seasonal']).size().unstack()\n",
        "questionseven"
      ],
      "metadata": {
        "colab": {
          "base_uri": "https://localhost:8080/",
          "height": 175
        },
        "id": "Ifm1w4h-_yLN",
        "outputId": "b9d39307-cea2-40e5-c100-1a9dad635ca1"
      },
      "execution_count": null,
      "outputs": [
        {
          "output_type": "execute_result",
          "data": {
            "text/plain": [
              "Seasonal           No  Yes\n",
              "Product Category          \n",
              "Clothing          160  178\n",
              "Electronics       182  154\n",
              "Food              153  173"
            ],
            "text/html": [
              "\n",
              "  <div id=\"df-9e5643fc-8565-4c33-8c7f-08b3bdc65bd5\" class=\"colab-df-container\">\n",
              "    <div>\n",
              "<style scoped>\n",
              "    .dataframe tbody tr th:only-of-type {\n",
              "        vertical-align: middle;\n",
              "    }\n",
              "\n",
              "    .dataframe tbody tr th {\n",
              "        vertical-align: top;\n",
              "    }\n",
              "\n",
              "    .dataframe thead th {\n",
              "        text-align: right;\n",
              "    }\n",
              "</style>\n",
              "<table border=\"1\" class=\"dataframe\">\n",
              "  <thead>\n",
              "    <tr style=\"text-align: right;\">\n",
              "      <th>Seasonal</th>\n",
              "      <th>No</th>\n",
              "      <th>Yes</th>\n",
              "    </tr>\n",
              "    <tr>\n",
              "      <th>Product Category</th>\n",
              "      <th></th>\n",
              "      <th></th>\n",
              "    </tr>\n",
              "  </thead>\n",
              "  <tbody>\n",
              "    <tr>\n",
              "      <th>Clothing</th>\n",
              "      <td>160</td>\n",
              "      <td>178</td>\n",
              "    </tr>\n",
              "    <tr>\n",
              "      <th>Electronics</th>\n",
              "      <td>182</td>\n",
              "      <td>154</td>\n",
              "    </tr>\n",
              "    <tr>\n",
              "      <th>Food</th>\n",
              "      <td>153</td>\n",
              "      <td>173</td>\n",
              "    </tr>\n",
              "  </tbody>\n",
              "</table>\n",
              "</div>\n",
              "    <div class=\"colab-df-buttons\">\n",
              "\n",
              "  <div class=\"colab-df-container\">\n",
              "    <button class=\"colab-df-convert\" onclick=\"convertToInteractive('df-9e5643fc-8565-4c33-8c7f-08b3bdc65bd5')\"\n",
              "            title=\"Convert this dataframe to an interactive table.\"\n",
              "            style=\"display:none;\">\n",
              "\n",
              "  <svg xmlns=\"http://www.w3.org/2000/svg\" height=\"24px\" viewBox=\"0 -960 960 960\">\n",
              "    <path d=\"M120-120v-720h720v720H120Zm60-500h600v-160H180v160Zm220 220h160v-160H400v160Zm0 220h160v-160H400v160ZM180-400h160v-160H180v160Zm440 0h160v-160H620v160ZM180-180h160v-160H180v160Zm440 0h160v-160H620v160Z\"/>\n",
              "  </svg>\n",
              "    </button>\n",
              "\n",
              "  <style>\n",
              "    .colab-df-container {\n",
              "      display:flex;\n",
              "      gap: 12px;\n",
              "    }\n",
              "\n",
              "    .colab-df-convert {\n",
              "      background-color: #E8F0FE;\n",
              "      border: none;\n",
              "      border-radius: 50%;\n",
              "      cursor: pointer;\n",
              "      display: none;\n",
              "      fill: #1967D2;\n",
              "      height: 32px;\n",
              "      padding: 0 0 0 0;\n",
              "      width: 32px;\n",
              "    }\n",
              "\n",
              "    .colab-df-convert:hover {\n",
              "      background-color: #E2EBFA;\n",
              "      box-shadow: 0px 1px 2px rgba(60, 64, 67, 0.3), 0px 1px 3px 1px rgba(60, 64, 67, 0.15);\n",
              "      fill: #174EA6;\n",
              "    }\n",
              "\n",
              "    .colab-df-buttons div {\n",
              "      margin-bottom: 4px;\n",
              "    }\n",
              "\n",
              "    [theme=dark] .colab-df-convert {\n",
              "      background-color: #3B4455;\n",
              "      fill: #D2E3FC;\n",
              "    }\n",
              "\n",
              "    [theme=dark] .colab-df-convert:hover {\n",
              "      background-color: #434B5C;\n",
              "      box-shadow: 0px 1px 3px 1px rgba(0, 0, 0, 0.15);\n",
              "      filter: drop-shadow(0px 1px 2px rgba(0, 0, 0, 0.3));\n",
              "      fill: #FFFFFF;\n",
              "    }\n",
              "  </style>\n",
              "\n",
              "    <script>\n",
              "      const buttonEl =\n",
              "        document.querySelector('#df-9e5643fc-8565-4c33-8c7f-08b3bdc65bd5 button.colab-df-convert');\n",
              "      buttonEl.style.display =\n",
              "        google.colab.kernel.accessAllowed ? 'block' : 'none';\n",
              "\n",
              "      async function convertToInteractive(key) {\n",
              "        const element = document.querySelector('#df-9e5643fc-8565-4c33-8c7f-08b3bdc65bd5');\n",
              "        const dataTable =\n",
              "          await google.colab.kernel.invokeFunction('convertToInteractive',\n",
              "                                                    [key], {});\n",
              "        if (!dataTable) return;\n",
              "\n",
              "        const docLinkHtml = 'Like what you see? Visit the ' +\n",
              "          '<a target=\"_blank\" href=https://colab.research.google.com/notebooks/data_table.ipynb>data table notebook</a>'\n",
              "          + ' to learn more about interactive tables.';\n",
              "        element.innerHTML = '';\n",
              "        dataTable['output_type'] = 'display_data';\n",
              "        await google.colab.output.renderOutput(dataTable, element);\n",
              "        const docLink = document.createElement('div');\n",
              "        docLink.innerHTML = docLinkHtml;\n",
              "        element.appendChild(docLink);\n",
              "      }\n",
              "    </script>\n",
              "  </div>\n",
              "\n",
              "\n",
              "<div id=\"df-d6fbae7f-f15d-45e1-8a90-e764f0762f75\">\n",
              "  <button class=\"colab-df-quickchart\" onclick=\"quickchart('df-d6fbae7f-f15d-45e1-8a90-e764f0762f75')\"\n",
              "            title=\"Suggest charts\"\n",
              "            style=\"display:none;\">\n",
              "\n",
              "<svg xmlns=\"http://www.w3.org/2000/svg\" height=\"24px\"viewBox=\"0 0 24 24\"\n",
              "     width=\"24px\">\n",
              "    <g>\n",
              "        <path d=\"M19 3H5c-1.1 0-2 .9-2 2v14c0 1.1.9 2 2 2h14c1.1 0 2-.9 2-2V5c0-1.1-.9-2-2-2zM9 17H7v-7h2v7zm4 0h-2V7h2v10zm4 0h-2v-4h2v4z\"/>\n",
              "    </g>\n",
              "</svg>\n",
              "  </button>\n",
              "\n",
              "<style>\n",
              "  .colab-df-quickchart {\n",
              "      --bg-color: #E8F0FE;\n",
              "      --fill-color: #1967D2;\n",
              "      --hover-bg-color: #E2EBFA;\n",
              "      --hover-fill-color: #174EA6;\n",
              "      --disabled-fill-color: #AAA;\n",
              "      --disabled-bg-color: #DDD;\n",
              "  }\n",
              "\n",
              "  [theme=dark] .colab-df-quickchart {\n",
              "      --bg-color: #3B4455;\n",
              "      --fill-color: #D2E3FC;\n",
              "      --hover-bg-color: #434B5C;\n",
              "      --hover-fill-color: #FFFFFF;\n",
              "      --disabled-bg-color: #3B4455;\n",
              "      --disabled-fill-color: #666;\n",
              "  }\n",
              "\n",
              "  .colab-df-quickchart {\n",
              "    background-color: var(--bg-color);\n",
              "    border: none;\n",
              "    border-radius: 50%;\n",
              "    cursor: pointer;\n",
              "    display: none;\n",
              "    fill: var(--fill-color);\n",
              "    height: 32px;\n",
              "    padding: 0;\n",
              "    width: 32px;\n",
              "  }\n",
              "\n",
              "  .colab-df-quickchart:hover {\n",
              "    background-color: var(--hover-bg-color);\n",
              "    box-shadow: 0 1px 2px rgba(60, 64, 67, 0.3), 0 1px 3px 1px rgba(60, 64, 67, 0.15);\n",
              "    fill: var(--button-hover-fill-color);\n",
              "  }\n",
              "\n",
              "  .colab-df-quickchart-complete:disabled,\n",
              "  .colab-df-quickchart-complete:disabled:hover {\n",
              "    background-color: var(--disabled-bg-color);\n",
              "    fill: var(--disabled-fill-color);\n",
              "    box-shadow: none;\n",
              "  }\n",
              "\n",
              "  .colab-df-spinner {\n",
              "    border: 2px solid var(--fill-color);\n",
              "    border-color: transparent;\n",
              "    border-bottom-color: var(--fill-color);\n",
              "    animation:\n",
              "      spin 1s steps(1) infinite;\n",
              "  }\n",
              "\n",
              "  @keyframes spin {\n",
              "    0% {\n",
              "      border-color: transparent;\n",
              "      border-bottom-color: var(--fill-color);\n",
              "      border-left-color: var(--fill-color);\n",
              "    }\n",
              "    20% {\n",
              "      border-color: transparent;\n",
              "      border-left-color: var(--fill-color);\n",
              "      border-top-color: var(--fill-color);\n",
              "    }\n",
              "    30% {\n",
              "      border-color: transparent;\n",
              "      border-left-color: var(--fill-color);\n",
              "      border-top-color: var(--fill-color);\n",
              "      border-right-color: var(--fill-color);\n",
              "    }\n",
              "    40% {\n",
              "      border-color: transparent;\n",
              "      border-right-color: var(--fill-color);\n",
              "      border-top-color: var(--fill-color);\n",
              "    }\n",
              "    60% {\n",
              "      border-color: transparent;\n",
              "      border-right-color: var(--fill-color);\n",
              "    }\n",
              "    80% {\n",
              "      border-color: transparent;\n",
              "      border-right-color: var(--fill-color);\n",
              "      border-bottom-color: var(--fill-color);\n",
              "    }\n",
              "    90% {\n",
              "      border-color: transparent;\n",
              "      border-bottom-color: var(--fill-color);\n",
              "    }\n",
              "  }\n",
              "</style>\n",
              "\n",
              "  <script>\n",
              "    async function quickchart(key) {\n",
              "      const quickchartButtonEl =\n",
              "        document.querySelector('#' + key + ' button');\n",
              "      quickchartButtonEl.disabled = true;  // To prevent multiple clicks.\n",
              "      quickchartButtonEl.classList.add('colab-df-spinner');\n",
              "      try {\n",
              "        const charts = await google.colab.kernel.invokeFunction(\n",
              "            'suggestCharts', [key], {});\n",
              "      } catch (error) {\n",
              "        console.error('Error during call to suggestCharts:', error);\n",
              "      }\n",
              "      quickchartButtonEl.classList.remove('colab-df-spinner');\n",
              "      quickchartButtonEl.classList.add('colab-df-quickchart-complete');\n",
              "    }\n",
              "    (() => {\n",
              "      let quickchartButtonEl =\n",
              "        document.querySelector('#df-d6fbae7f-f15d-45e1-8a90-e764f0762f75 button');\n",
              "      quickchartButtonEl.style.display =\n",
              "        google.colab.kernel.accessAllowed ? 'block' : 'none';\n",
              "    })();\n",
              "  </script>\n",
              "</div>\n",
              "\n",
              "  <div id=\"id_2f43082f-823e-4124-bf60-946d6a17a517\">\n",
              "    <style>\n",
              "      .colab-df-generate {\n",
              "        background-color: #E8F0FE;\n",
              "        border: none;\n",
              "        border-radius: 50%;\n",
              "        cursor: pointer;\n",
              "        display: none;\n",
              "        fill: #1967D2;\n",
              "        height: 32px;\n",
              "        padding: 0 0 0 0;\n",
              "        width: 32px;\n",
              "      }\n",
              "\n",
              "      .colab-df-generate:hover {\n",
              "        background-color: #E2EBFA;\n",
              "        box-shadow: 0px 1px 2px rgba(60, 64, 67, 0.3), 0px 1px 3px 1px rgba(60, 64, 67, 0.15);\n",
              "        fill: #174EA6;\n",
              "      }\n",
              "\n",
              "      [theme=dark] .colab-df-generate {\n",
              "        background-color: #3B4455;\n",
              "        fill: #D2E3FC;\n",
              "      }\n",
              "\n",
              "      [theme=dark] .colab-df-generate:hover {\n",
              "        background-color: #434B5C;\n",
              "        box-shadow: 0px 1px 3px 1px rgba(0, 0, 0, 0.15);\n",
              "        filter: drop-shadow(0px 1px 2px rgba(0, 0, 0, 0.3));\n",
              "        fill: #FFFFFF;\n",
              "      }\n",
              "    </style>\n",
              "    <button class=\"colab-df-generate\" onclick=\"generateWithVariable('questionseven')\"\n",
              "            title=\"Generate code using this dataframe.\"\n",
              "            style=\"display:none;\">\n",
              "\n",
              "  <svg xmlns=\"http://www.w3.org/2000/svg\" height=\"24px\"viewBox=\"0 0 24 24\"\n",
              "       width=\"24px\">\n",
              "    <path d=\"M7,19H8.4L18.45,9,17,7.55,7,17.6ZM5,21V16.75L18.45,3.32a2,2,0,0,1,2.83,0l1.4,1.43a1.91,1.91,0,0,1,.58,1.4,1.91,1.91,0,0,1-.58,1.4L9.25,21ZM18.45,9,17,7.55Zm-12,3A5.31,5.31,0,0,0,4.9,8.1,5.31,5.31,0,0,0,1,6.5,5.31,5.31,0,0,0,4.9,4.9,5.31,5.31,0,0,0,6.5,1,5.31,5.31,0,0,0,8.1,4.9,5.31,5.31,0,0,0,12,6.5,5.46,5.46,0,0,0,6.5,12Z\"/>\n",
              "  </svg>\n",
              "    </button>\n",
              "    <script>\n",
              "      (() => {\n",
              "      const buttonEl =\n",
              "        document.querySelector('#id_2f43082f-823e-4124-bf60-946d6a17a517 button.colab-df-generate');\n",
              "      buttonEl.style.display =\n",
              "        google.colab.kernel.accessAllowed ? 'block' : 'none';\n",
              "\n",
              "      buttonEl.onclick = () => {\n",
              "        google.colab.notebook.generateWithVariable('questionseven');\n",
              "      }\n",
              "      })();\n",
              "    </script>\n",
              "  </div>\n",
              "\n",
              "    </div>\n",
              "  </div>\n"
            ],
            "application/vnd.google.colaboratory.intrinsic+json": {
              "type": "dataframe",
              "variable_name": "questionseven",
              "summary": "{\n  \"name\": \"questionseven\",\n  \"rows\": 3,\n  \"fields\": [\n    {\n      \"column\": \"Product Category\",\n      \"properties\": {\n        \"dtype\": \"string\",\n        \"num_unique_values\": 3,\n        \"samples\": [\n          \"Clothing\",\n          \"Electronics\",\n          \"Food\"\n        ],\n        \"semantic_type\": \"\",\n        \"description\": \"\"\n      }\n    },\n    {\n      \"column\": \"No\",\n      \"properties\": {\n        \"dtype\": \"number\",\n        \"std\": 15,\n        \"min\": 153,\n        \"max\": 182,\n        \"num_unique_values\": 3,\n        \"samples\": [\n          160,\n          182,\n          153\n        ],\n        \"semantic_type\": \"\",\n        \"description\": \"\"\n      }\n    },\n    {\n      \"column\": \"Yes\",\n      \"properties\": {\n        \"dtype\": \"number\",\n        \"std\": 12,\n        \"min\": 154,\n        \"max\": 178,\n        \"num_unique_values\": 3,\n        \"samples\": [\n          178,\n          154,\n          173\n        ],\n        \"semantic_type\": \"\",\n        \"description\": \"\"\n      }\n    }\n  ]\n}"
            }
          },
          "metadata": {},
          "execution_count": 46
        }
      ]
    },
    {
      "cell_type": "markdown",
      "source": [
        "About the code -\n",
        "\n",
        "I have used groupby to show the unstacked values of Product Category and if they are seasonal product or no. Groupby naturally creates an stacked version, which is then have to be unstacked for visualization\n"
      ],
      "metadata": {
        "id": "abVCAtEsCpap"
      }
    },
    {
      "cell_type": "markdown",
      "source": [
        "In the above code, I have calculated the total number of products under each product category that are seasonal or not seasonal."
      ],
      "metadata": {
        "id": "vzYcD_42DTIi"
      }
    },
    {
      "cell_type": "code",
      "source": [
        "heatmap_questionseven = go.Heatmap(\n",
        "    z=questionseven.values,\n",
        "    x=questionseven.columns,\n",
        "    y=questionseven.index,\n",
        "    colorscale='viridis',\n",
        ")\n",
        "\n",
        "layout = go.Layout(\n",
        "    title='Relation between Product Category and Seasonal',\n",
        "    xaxis=dict(title='Seasonal'),\n",
        "    yaxis=dict(title='Product Category'),\n",
        "    coloraxis_colorbar=dict(title='Frequency')\n",
        ")\n",
        "\n",
        "fig = go.Figure(data=[heatmap_questionseven], layout=layout)\n",
        "\n",
        "fig.show()"
      ],
      "metadata": {
        "colab": {
          "base_uri": "https://localhost:8080/",
          "height": 542
        },
        "id": "p8YwQ2Ud-FbL",
        "outputId": "9c3af2c4-918d-4bb3-eb72-0175f699834a"
      },
      "execution_count": null,
      "outputs": [
        {
          "output_type": "display_data",
          "data": {
            "text/html": [
              "<html>\n",
              "<head><meta charset=\"utf-8\" /></head>\n",
              "<body>\n",
              "    <div>            <script src=\"https://cdnjs.cloudflare.com/ajax/libs/mathjax/2.7.5/MathJax.js?config=TeX-AMS-MML_SVG\"></script><script type=\"text/javascript\">if (window.MathJax && window.MathJax.Hub && window.MathJax.Hub.Config) {window.MathJax.Hub.Config({SVG: {font: \"STIX-Web\"}});}</script>                <script type=\"text/javascript\">window.PlotlyConfig = {MathJaxConfig: 'local'};</script>\n",
              "        <script charset=\"utf-8\" src=\"https://cdn.plot.ly/plotly-2.24.1.min.js\"></script>                <div id=\"0769eae8-ecbc-43cc-9450-e64a0ec6d296\" class=\"plotly-graph-div\" style=\"height:525px; width:100%;\"></div>            <script type=\"text/javascript\">                                    window.PLOTLYENV=window.PLOTLYENV || {};                                    if (document.getElementById(\"0769eae8-ecbc-43cc-9450-e64a0ec6d296\")) {                    Plotly.newPlot(                        \"0769eae8-ecbc-43cc-9450-e64a0ec6d296\",                        [{\"colorscale\":[[0.0,\"#440154\"],[0.1111111111111111,\"#482878\"],[0.2222222222222222,\"#3e4989\"],[0.3333333333333333,\"#31688e\"],[0.4444444444444444,\"#26828e\"],[0.5555555555555556,\"#1f9e89\"],[0.6666666666666666,\"#35b779\"],[0.7777777777777778,\"#6ece58\"],[0.8888888888888888,\"#b5de2b\"],[1.0,\"#fde725\"]],\"x\":[\"No\",\"Yes\"],\"y\":[\"Clothing\",\"Electronics\",\"Food\"],\"z\":[[160,178],[182,154],[153,173]],\"type\":\"heatmap\"}],                        {\"coloraxis\":{\"colorbar\":{\"title\":{\"text\":\"Frequency\"}}},\"title\":{\"text\":\"Relation between Product Category and Seasonal\"},\"xaxis\":{\"title\":{\"text\":\"Seasonal\"}},\"yaxis\":{\"title\":{\"text\":\"Product Category\"}},\"template\":{\"data\":{\"histogram2dcontour\":[{\"type\":\"histogram2dcontour\",\"colorbar\":{\"outlinewidth\":0,\"ticks\":\"\"},\"colorscale\":[[0.0,\"#0d0887\"],[0.1111111111111111,\"#46039f\"],[0.2222222222222222,\"#7201a8\"],[0.3333333333333333,\"#9c179e\"],[0.4444444444444444,\"#bd3786\"],[0.5555555555555556,\"#d8576b\"],[0.6666666666666666,\"#ed7953\"],[0.7777777777777778,\"#fb9f3a\"],[0.8888888888888888,\"#fdca26\"],[1.0,\"#f0f921\"]]}],\"choropleth\":[{\"type\":\"choropleth\",\"colorbar\":{\"outlinewidth\":0,\"ticks\":\"\"}}],\"histogram2d\":[{\"type\":\"histogram2d\",\"colorbar\":{\"outlinewidth\":0,\"ticks\":\"\"},\"colorscale\":[[0.0,\"#0d0887\"],[0.1111111111111111,\"#46039f\"],[0.2222222222222222,\"#7201a8\"],[0.3333333333333333,\"#9c179e\"],[0.4444444444444444,\"#bd3786\"],[0.5555555555555556,\"#d8576b\"],[0.6666666666666666,\"#ed7953\"],[0.7777777777777778,\"#fb9f3a\"],[0.8888888888888888,\"#fdca26\"],[1.0,\"#f0f921\"]]}],\"heatmap\":[{\"type\":\"heatmap\",\"colorbar\":{\"outlinewidth\":0,\"ticks\":\"\"},\"colorscale\":[[0.0,\"#0d0887\"],[0.1111111111111111,\"#46039f\"],[0.2222222222222222,\"#7201a8\"],[0.3333333333333333,\"#9c179e\"],[0.4444444444444444,\"#bd3786\"],[0.5555555555555556,\"#d8576b\"],[0.6666666666666666,\"#ed7953\"],[0.7777777777777778,\"#fb9f3a\"],[0.8888888888888888,\"#fdca26\"],[1.0,\"#f0f921\"]]}],\"heatmapgl\":[{\"type\":\"heatmapgl\",\"colorbar\":{\"outlinewidth\":0,\"ticks\":\"\"},\"colorscale\":[[0.0,\"#0d0887\"],[0.1111111111111111,\"#46039f\"],[0.2222222222222222,\"#7201a8\"],[0.3333333333333333,\"#9c179e\"],[0.4444444444444444,\"#bd3786\"],[0.5555555555555556,\"#d8576b\"],[0.6666666666666666,\"#ed7953\"],[0.7777777777777778,\"#fb9f3a\"],[0.8888888888888888,\"#fdca26\"],[1.0,\"#f0f921\"]]}],\"contourcarpet\":[{\"type\":\"contourcarpet\",\"colorbar\":{\"outlinewidth\":0,\"ticks\":\"\"}}],\"contour\":[{\"type\":\"contour\",\"colorbar\":{\"outlinewidth\":0,\"ticks\":\"\"},\"colorscale\":[[0.0,\"#0d0887\"],[0.1111111111111111,\"#46039f\"],[0.2222222222222222,\"#7201a8\"],[0.3333333333333333,\"#9c179e\"],[0.4444444444444444,\"#bd3786\"],[0.5555555555555556,\"#d8576b\"],[0.6666666666666666,\"#ed7953\"],[0.7777777777777778,\"#fb9f3a\"],[0.8888888888888888,\"#fdca26\"],[1.0,\"#f0f921\"]]}],\"surface\":[{\"type\":\"surface\",\"colorbar\":{\"outlinewidth\":0,\"ticks\":\"\"},\"colorscale\":[[0.0,\"#0d0887\"],[0.1111111111111111,\"#46039f\"],[0.2222222222222222,\"#7201a8\"],[0.3333333333333333,\"#9c179e\"],[0.4444444444444444,\"#bd3786\"],[0.5555555555555556,\"#d8576b\"],[0.6666666666666666,\"#ed7953\"],[0.7777777777777778,\"#fb9f3a\"],[0.8888888888888888,\"#fdca26\"],[1.0,\"#f0f921\"]]}],\"mesh3d\":[{\"type\":\"mesh3d\",\"colorbar\":{\"outlinewidth\":0,\"ticks\":\"\"}}],\"scatter\":[{\"fillpattern\":{\"fillmode\":\"overlay\",\"size\":10,\"solidity\":0.2},\"type\":\"scatter\"}],\"parcoords\":[{\"type\":\"parcoords\",\"line\":{\"colorbar\":{\"outlinewidth\":0,\"ticks\":\"\"}}}],\"scatterpolargl\":[{\"type\":\"scatterpolargl\",\"marker\":{\"colorbar\":{\"outlinewidth\":0,\"ticks\":\"\"}}}],\"bar\":[{\"error_x\":{\"color\":\"#2a3f5f\"},\"error_y\":{\"color\":\"#2a3f5f\"},\"marker\":{\"line\":{\"color\":\"#E5ECF6\",\"width\":0.5},\"pattern\":{\"fillmode\":\"overlay\",\"size\":10,\"solidity\":0.2}},\"type\":\"bar\"}],\"scattergeo\":[{\"type\":\"scattergeo\",\"marker\":{\"colorbar\":{\"outlinewidth\":0,\"ticks\":\"\"}}}],\"scatterpolar\":[{\"type\":\"scatterpolar\",\"marker\":{\"colorbar\":{\"outlinewidth\":0,\"ticks\":\"\"}}}],\"histogram\":[{\"marker\":{\"pattern\":{\"fillmode\":\"overlay\",\"size\":10,\"solidity\":0.2}},\"type\":\"histogram\"}],\"scattergl\":[{\"type\":\"scattergl\",\"marker\":{\"colorbar\":{\"outlinewidth\":0,\"ticks\":\"\"}}}],\"scatter3d\":[{\"type\":\"scatter3d\",\"line\":{\"colorbar\":{\"outlinewidth\":0,\"ticks\":\"\"}},\"marker\":{\"colorbar\":{\"outlinewidth\":0,\"ticks\":\"\"}}}],\"scattermapbox\":[{\"type\":\"scattermapbox\",\"marker\":{\"colorbar\":{\"outlinewidth\":0,\"ticks\":\"\"}}}],\"scatterternary\":[{\"type\":\"scatterternary\",\"marker\":{\"colorbar\":{\"outlinewidth\":0,\"ticks\":\"\"}}}],\"scattercarpet\":[{\"type\":\"scattercarpet\",\"marker\":{\"colorbar\":{\"outlinewidth\":0,\"ticks\":\"\"}}}],\"carpet\":[{\"aaxis\":{\"endlinecolor\":\"#2a3f5f\",\"gridcolor\":\"white\",\"linecolor\":\"white\",\"minorgridcolor\":\"white\",\"startlinecolor\":\"#2a3f5f\"},\"baxis\":{\"endlinecolor\":\"#2a3f5f\",\"gridcolor\":\"white\",\"linecolor\":\"white\",\"minorgridcolor\":\"white\",\"startlinecolor\":\"#2a3f5f\"},\"type\":\"carpet\"}],\"table\":[{\"cells\":{\"fill\":{\"color\":\"#EBF0F8\"},\"line\":{\"color\":\"white\"}},\"header\":{\"fill\":{\"color\":\"#C8D4E3\"},\"line\":{\"color\":\"white\"}},\"type\":\"table\"}],\"barpolar\":[{\"marker\":{\"line\":{\"color\":\"#E5ECF6\",\"width\":0.5},\"pattern\":{\"fillmode\":\"overlay\",\"size\":10,\"solidity\":0.2}},\"type\":\"barpolar\"}],\"pie\":[{\"automargin\":true,\"type\":\"pie\"}]},\"layout\":{\"autotypenumbers\":\"strict\",\"colorway\":[\"#636efa\",\"#EF553B\",\"#00cc96\",\"#ab63fa\",\"#FFA15A\",\"#19d3f3\",\"#FF6692\",\"#B6E880\",\"#FF97FF\",\"#FECB52\"],\"font\":{\"color\":\"#2a3f5f\"},\"hovermode\":\"closest\",\"hoverlabel\":{\"align\":\"left\"},\"paper_bgcolor\":\"white\",\"plot_bgcolor\":\"#E5ECF6\",\"polar\":{\"bgcolor\":\"#E5ECF6\",\"angularaxis\":{\"gridcolor\":\"white\",\"linecolor\":\"white\",\"ticks\":\"\"},\"radialaxis\":{\"gridcolor\":\"white\",\"linecolor\":\"white\",\"ticks\":\"\"}},\"ternary\":{\"bgcolor\":\"#E5ECF6\",\"aaxis\":{\"gridcolor\":\"white\",\"linecolor\":\"white\",\"ticks\":\"\"},\"baxis\":{\"gridcolor\":\"white\",\"linecolor\":\"white\",\"ticks\":\"\"},\"caxis\":{\"gridcolor\":\"white\",\"linecolor\":\"white\",\"ticks\":\"\"}},\"coloraxis\":{\"colorbar\":{\"outlinewidth\":0,\"ticks\":\"\"}},\"colorscale\":{\"sequential\":[[0.0,\"#0d0887\"],[0.1111111111111111,\"#46039f\"],[0.2222222222222222,\"#7201a8\"],[0.3333333333333333,\"#9c179e\"],[0.4444444444444444,\"#bd3786\"],[0.5555555555555556,\"#d8576b\"],[0.6666666666666666,\"#ed7953\"],[0.7777777777777778,\"#fb9f3a\"],[0.8888888888888888,\"#fdca26\"],[1.0,\"#f0f921\"]],\"sequentialminus\":[[0.0,\"#0d0887\"],[0.1111111111111111,\"#46039f\"],[0.2222222222222222,\"#7201a8\"],[0.3333333333333333,\"#9c179e\"],[0.4444444444444444,\"#bd3786\"],[0.5555555555555556,\"#d8576b\"],[0.6666666666666666,\"#ed7953\"],[0.7777777777777778,\"#fb9f3a\"],[0.8888888888888888,\"#fdca26\"],[1.0,\"#f0f921\"]],\"diverging\":[[0,\"#8e0152\"],[0.1,\"#c51b7d\"],[0.2,\"#de77ae\"],[0.3,\"#f1b6da\"],[0.4,\"#fde0ef\"],[0.5,\"#f7f7f7\"],[0.6,\"#e6f5d0\"],[0.7,\"#b8e186\"],[0.8,\"#7fbc41\"],[0.9,\"#4d9221\"],[1,\"#276419\"]]},\"xaxis\":{\"gridcolor\":\"white\",\"linecolor\":\"white\",\"ticks\":\"\",\"title\":{\"standoff\":15},\"zerolinecolor\":\"white\",\"automargin\":true,\"zerolinewidth\":2},\"yaxis\":{\"gridcolor\":\"white\",\"linecolor\":\"white\",\"ticks\":\"\",\"title\":{\"standoff\":15},\"zerolinecolor\":\"white\",\"automargin\":true,\"zerolinewidth\":2},\"scene\":{\"xaxis\":{\"backgroundcolor\":\"#E5ECF6\",\"gridcolor\":\"white\",\"linecolor\":\"white\",\"showbackground\":true,\"ticks\":\"\",\"zerolinecolor\":\"white\",\"gridwidth\":2},\"yaxis\":{\"backgroundcolor\":\"#E5ECF6\",\"gridcolor\":\"white\",\"linecolor\":\"white\",\"showbackground\":true,\"ticks\":\"\",\"zerolinecolor\":\"white\",\"gridwidth\":2},\"zaxis\":{\"backgroundcolor\":\"#E5ECF6\",\"gridcolor\":\"white\",\"linecolor\":\"white\",\"showbackground\":true,\"ticks\":\"\",\"zerolinecolor\":\"white\",\"gridwidth\":2}},\"shapedefaults\":{\"line\":{\"color\":\"#2a3f5f\"}},\"annotationdefaults\":{\"arrowcolor\":\"#2a3f5f\",\"arrowhead\":0,\"arrowwidth\":1},\"geo\":{\"bgcolor\":\"white\",\"landcolor\":\"#E5ECF6\",\"subunitcolor\":\"white\",\"showland\":true,\"showlakes\":true,\"lakecolor\":\"white\"},\"title\":{\"x\":0.05},\"mapbox\":{\"style\":\"light\"}}}},                        {\"responsive\": true}                    ).then(function(){\n",
              "                            \n",
              "var gd = document.getElementById('0769eae8-ecbc-43cc-9450-e64a0ec6d296');\n",
              "var x = new MutationObserver(function (mutations, observer) {{\n",
              "        var display = window.getComputedStyle(gd).display;\n",
              "        if (!display || display === 'none') {{\n",
              "            console.log([gd, 'removed!']);\n",
              "            Plotly.purge(gd);\n",
              "            observer.disconnect();\n",
              "        }}\n",
              "}});\n",
              "\n",
              "// Listen for the removal of the full notebook cells\n",
              "var notebookContainer = gd.closest('#notebook-container');\n",
              "if (notebookContainer) {{\n",
              "    x.observe(notebookContainer, {childList: true});\n",
              "}}\n",
              "\n",
              "// Listen for the clearing of the current output cell\n",
              "var outputEl = gd.closest('.output');\n",
              "if (outputEl) {{\n",
              "    x.observe(outputEl, {childList: true});\n",
              "}}\n",
              "\n",
              "                        })                };                            </script>        </div>\n",
              "</body>\n",
              "</html>"
            ]
          },
          "metadata": {}
        }
      ]
    },
    {
      "cell_type": "markdown",
      "source": [
        "About the code -\n",
        "\n",
        "Here, I have used an interactive heatmap. (Values can be seen by hovering over the plots)\n",
        "\n",
        "go.heatmap() - is the code to create heatmap using plotly\n",
        "- The z values counts the frequency of seasonal and plot it to the map\n",
        "- The x values is to display along the x axis of the map, which here are the yes seasonal or no seasonal.\n",
        "- The y values is to display along the y axis of the map, it displays all different product categories.\n",
        "- Color = virdis is the predefines color scheme under heatmaps in plotly.\n",
        "\n",
        "Golayout is a function under plotly that is used to define the visual look of the graph.\n",
        "\n",
        "Then the other codes are used to set the title of all there respective axis. The meaning of dict (dictinory) function is used to create a dictionary specifying various properties of their respective axis.\n",
        "\n",
        "The last two lines of codes are used to create the figure with the set layout and then show it.\n"
      ],
      "metadata": {
        "id": "HN7Gi_bnEM2z"
      }
    },
    {
      "cell_type": "markdown",
      "source": [
        "In the above graph, here are some of my observations -\n",
        "\n",
        "- In food, the frequency of seasonal is more which is 173 and the non seasonal are 153.\n",
        "- In electronics, the frequency of seasonal is less which is 154 and the non seasonal are 182.\n",
        "- In clothing, the frequency of seasonal is more which is 178 and the non seasonal are 160.\n",
        "\n",
        "The pattern that is that electronics are more non seasonal, which makes sense as there are not many gadgets that sells in regard to the season except air conditioning and heater.\n",
        "\n",
        "In clothing, the frequency of seasonal is pretty high. This is because the demand of such category changes accordingly. Not just seasons, but presense of festivals also increases such demand.\n",
        "\n",
        "For food, there are also in many ways very seasonal. Mangoes are highly known for summers and fruits such as grapes are winter fruits. Also, turkey and pumpkins are sold more on thanksgiving and halloween respectively.\n",
        "\n",
        "My advise is to have more seasonal products under clothing as they have the most potential. Followed by food and lastly electronics.\n"
      ],
      "metadata": {
        "id": "O0mBN0MlAFZH"
      }
    },
    {
      "cell_type": "code",
      "source": [
        "salescheck = df.groupby(['Product Category', 'Seasonal'])['Sales Volume'].sum()\n",
        "salescheck"
      ],
      "metadata": {
        "colab": {
          "base_uri": "https://localhost:8080/"
        },
        "id": "Ig0jDoMGBqnU",
        "outputId": "af950aba-53f6-40f0-ce2b-0bb767e1c04c"
      },
      "execution_count": null,
      "outputs": [
        {
          "output_type": "execute_result",
          "data": {
            "text/plain": [
              "Product Category  Seasonal\n",
              "Clothing          No          295140\n",
              "                  Yes         323440\n",
              "Electronics       No          314315\n",
              "                  Yes         273202\n",
              "Food              No          256455\n",
              "                  Yes         306759\n",
              "Name: Sales Volume, dtype: int64"
            ]
          },
          "metadata": {},
          "execution_count": 48
        }
      ]
    },
    {
      "cell_type": "markdown",
      "source": [
        "The above code furthur clarifies that the potential that seasonal clothes hold is high, as the sales volume is 323440. Adding even more diverse items will only help the business furthur.\n",
        "\n",
        "The sales of electronics is higher in non seasonal products, this proves that it does not have much potential but seasonal products such as Ac and heater must not be ignored.\n",
        "\n",
        "Lastly, the sales of seasonal food is much higher then that of non seasonal food."
      ],
      "metadata": {
        "id": "2qjQMTYCCCY7"
      }
    },
    {
      "cell_type": "markdown",
      "source": [
        "Q8) Analyze the foot traffic of different consumer demographics."
      ],
      "metadata": {
        "id": "ZrpOX6KgEPhF"
      }
    },
    {
      "cell_type": "code",
      "source": [
        "contingency_table = pd.crosstab(df['Consumer Demographics'], df['Foot Traffic'])\n",
        "contingency_table"
      ],
      "metadata": {
        "colab": {
          "base_uri": "https://localhost:8080/",
          "height": 206
        },
        "id": "Pyj4x3LAFlWc",
        "outputId": "02062748-30b5-40a8-a268-36fece175a8f"
      },
      "execution_count": null,
      "outputs": [
        {
          "output_type": "execute_result",
          "data": {
            "text/plain": [
              "Foot Traffic           High  Low  Medium\n",
              "Consumer Demographics                   \n",
              "College students         77   88      86\n",
              "Families                 95   83      85\n",
              "Seniors                  89   77      83\n",
              "Young adults             79   74      84"
            ],
            "text/html": [
              "\n",
              "  <div id=\"df-f86b16c6-8bd6-4507-a95c-603e99af82c5\" class=\"colab-df-container\">\n",
              "    <div>\n",
              "<style scoped>\n",
              "    .dataframe tbody tr th:only-of-type {\n",
              "        vertical-align: middle;\n",
              "    }\n",
              "\n",
              "    .dataframe tbody tr th {\n",
              "        vertical-align: top;\n",
              "    }\n",
              "\n",
              "    .dataframe thead th {\n",
              "        text-align: right;\n",
              "    }\n",
              "</style>\n",
              "<table border=\"1\" class=\"dataframe\">\n",
              "  <thead>\n",
              "    <tr style=\"text-align: right;\">\n",
              "      <th>Foot Traffic</th>\n",
              "      <th>High</th>\n",
              "      <th>Low</th>\n",
              "      <th>Medium</th>\n",
              "    </tr>\n",
              "    <tr>\n",
              "      <th>Consumer Demographics</th>\n",
              "      <th></th>\n",
              "      <th></th>\n",
              "      <th></th>\n",
              "    </tr>\n",
              "  </thead>\n",
              "  <tbody>\n",
              "    <tr>\n",
              "      <th>College students</th>\n",
              "      <td>77</td>\n",
              "      <td>88</td>\n",
              "      <td>86</td>\n",
              "    </tr>\n",
              "    <tr>\n",
              "      <th>Families</th>\n",
              "      <td>95</td>\n",
              "      <td>83</td>\n",
              "      <td>85</td>\n",
              "    </tr>\n",
              "    <tr>\n",
              "      <th>Seniors</th>\n",
              "      <td>89</td>\n",
              "      <td>77</td>\n",
              "      <td>83</td>\n",
              "    </tr>\n",
              "    <tr>\n",
              "      <th>Young adults</th>\n",
              "      <td>79</td>\n",
              "      <td>74</td>\n",
              "      <td>84</td>\n",
              "    </tr>\n",
              "  </tbody>\n",
              "</table>\n",
              "</div>\n",
              "    <div class=\"colab-df-buttons\">\n",
              "\n",
              "  <div class=\"colab-df-container\">\n",
              "    <button class=\"colab-df-convert\" onclick=\"convertToInteractive('df-f86b16c6-8bd6-4507-a95c-603e99af82c5')\"\n",
              "            title=\"Convert this dataframe to an interactive table.\"\n",
              "            style=\"display:none;\">\n",
              "\n",
              "  <svg xmlns=\"http://www.w3.org/2000/svg\" height=\"24px\" viewBox=\"0 -960 960 960\">\n",
              "    <path d=\"M120-120v-720h720v720H120Zm60-500h600v-160H180v160Zm220 220h160v-160H400v160Zm0 220h160v-160H400v160ZM180-400h160v-160H180v160Zm440 0h160v-160H620v160ZM180-180h160v-160H180v160Zm440 0h160v-160H620v160Z\"/>\n",
              "  </svg>\n",
              "    </button>\n",
              "\n",
              "  <style>\n",
              "    .colab-df-container {\n",
              "      display:flex;\n",
              "      gap: 12px;\n",
              "    }\n",
              "\n",
              "    .colab-df-convert {\n",
              "      background-color: #E8F0FE;\n",
              "      border: none;\n",
              "      border-radius: 50%;\n",
              "      cursor: pointer;\n",
              "      display: none;\n",
              "      fill: #1967D2;\n",
              "      height: 32px;\n",
              "      padding: 0 0 0 0;\n",
              "      width: 32px;\n",
              "    }\n",
              "\n",
              "    .colab-df-convert:hover {\n",
              "      background-color: #E2EBFA;\n",
              "      box-shadow: 0px 1px 2px rgba(60, 64, 67, 0.3), 0px 1px 3px 1px rgba(60, 64, 67, 0.15);\n",
              "      fill: #174EA6;\n",
              "    }\n",
              "\n",
              "    .colab-df-buttons div {\n",
              "      margin-bottom: 4px;\n",
              "    }\n",
              "\n",
              "    [theme=dark] .colab-df-convert {\n",
              "      background-color: #3B4455;\n",
              "      fill: #D2E3FC;\n",
              "    }\n",
              "\n",
              "    [theme=dark] .colab-df-convert:hover {\n",
              "      background-color: #434B5C;\n",
              "      box-shadow: 0px 1px 3px 1px rgba(0, 0, 0, 0.15);\n",
              "      filter: drop-shadow(0px 1px 2px rgba(0, 0, 0, 0.3));\n",
              "      fill: #FFFFFF;\n",
              "    }\n",
              "  </style>\n",
              "\n",
              "    <script>\n",
              "      const buttonEl =\n",
              "        document.querySelector('#df-f86b16c6-8bd6-4507-a95c-603e99af82c5 button.colab-df-convert');\n",
              "      buttonEl.style.display =\n",
              "        google.colab.kernel.accessAllowed ? 'block' : 'none';\n",
              "\n",
              "      async function convertToInteractive(key) {\n",
              "        const element = document.querySelector('#df-f86b16c6-8bd6-4507-a95c-603e99af82c5');\n",
              "        const dataTable =\n",
              "          await google.colab.kernel.invokeFunction('convertToInteractive',\n",
              "                                                    [key], {});\n",
              "        if (!dataTable) return;\n",
              "\n",
              "        const docLinkHtml = 'Like what you see? Visit the ' +\n",
              "          '<a target=\"_blank\" href=https://colab.research.google.com/notebooks/data_table.ipynb>data table notebook</a>'\n",
              "          + ' to learn more about interactive tables.';\n",
              "        element.innerHTML = '';\n",
              "        dataTable['output_type'] = 'display_data';\n",
              "        await google.colab.output.renderOutput(dataTable, element);\n",
              "        const docLink = document.createElement('div');\n",
              "        docLink.innerHTML = docLinkHtml;\n",
              "        element.appendChild(docLink);\n",
              "      }\n",
              "    </script>\n",
              "  </div>\n",
              "\n",
              "\n",
              "<div id=\"df-55cfe237-8eec-40c2-ae69-f805ab79a73f\">\n",
              "  <button class=\"colab-df-quickchart\" onclick=\"quickchart('df-55cfe237-8eec-40c2-ae69-f805ab79a73f')\"\n",
              "            title=\"Suggest charts\"\n",
              "            style=\"display:none;\">\n",
              "\n",
              "<svg xmlns=\"http://www.w3.org/2000/svg\" height=\"24px\"viewBox=\"0 0 24 24\"\n",
              "     width=\"24px\">\n",
              "    <g>\n",
              "        <path d=\"M19 3H5c-1.1 0-2 .9-2 2v14c0 1.1.9 2 2 2h14c1.1 0 2-.9 2-2V5c0-1.1-.9-2-2-2zM9 17H7v-7h2v7zm4 0h-2V7h2v10zm4 0h-2v-4h2v4z\"/>\n",
              "    </g>\n",
              "</svg>\n",
              "  </button>\n",
              "\n",
              "<style>\n",
              "  .colab-df-quickchart {\n",
              "      --bg-color: #E8F0FE;\n",
              "      --fill-color: #1967D2;\n",
              "      --hover-bg-color: #E2EBFA;\n",
              "      --hover-fill-color: #174EA6;\n",
              "      --disabled-fill-color: #AAA;\n",
              "      --disabled-bg-color: #DDD;\n",
              "  }\n",
              "\n",
              "  [theme=dark] .colab-df-quickchart {\n",
              "      --bg-color: #3B4455;\n",
              "      --fill-color: #D2E3FC;\n",
              "      --hover-bg-color: #434B5C;\n",
              "      --hover-fill-color: #FFFFFF;\n",
              "      --disabled-bg-color: #3B4455;\n",
              "      --disabled-fill-color: #666;\n",
              "  }\n",
              "\n",
              "  .colab-df-quickchart {\n",
              "    background-color: var(--bg-color);\n",
              "    border: none;\n",
              "    border-radius: 50%;\n",
              "    cursor: pointer;\n",
              "    display: none;\n",
              "    fill: var(--fill-color);\n",
              "    height: 32px;\n",
              "    padding: 0;\n",
              "    width: 32px;\n",
              "  }\n",
              "\n",
              "  .colab-df-quickchart:hover {\n",
              "    background-color: var(--hover-bg-color);\n",
              "    box-shadow: 0 1px 2px rgba(60, 64, 67, 0.3), 0 1px 3px 1px rgba(60, 64, 67, 0.15);\n",
              "    fill: var(--button-hover-fill-color);\n",
              "  }\n",
              "\n",
              "  .colab-df-quickchart-complete:disabled,\n",
              "  .colab-df-quickchart-complete:disabled:hover {\n",
              "    background-color: var(--disabled-bg-color);\n",
              "    fill: var(--disabled-fill-color);\n",
              "    box-shadow: none;\n",
              "  }\n",
              "\n",
              "  .colab-df-spinner {\n",
              "    border: 2px solid var(--fill-color);\n",
              "    border-color: transparent;\n",
              "    border-bottom-color: var(--fill-color);\n",
              "    animation:\n",
              "      spin 1s steps(1) infinite;\n",
              "  }\n",
              "\n",
              "  @keyframes spin {\n",
              "    0% {\n",
              "      border-color: transparent;\n",
              "      border-bottom-color: var(--fill-color);\n",
              "      border-left-color: var(--fill-color);\n",
              "    }\n",
              "    20% {\n",
              "      border-color: transparent;\n",
              "      border-left-color: var(--fill-color);\n",
              "      border-top-color: var(--fill-color);\n",
              "    }\n",
              "    30% {\n",
              "      border-color: transparent;\n",
              "      border-left-color: var(--fill-color);\n",
              "      border-top-color: var(--fill-color);\n",
              "      border-right-color: var(--fill-color);\n",
              "    }\n",
              "    40% {\n",
              "      border-color: transparent;\n",
              "      border-right-color: var(--fill-color);\n",
              "      border-top-color: var(--fill-color);\n",
              "    }\n",
              "    60% {\n",
              "      border-color: transparent;\n",
              "      border-right-color: var(--fill-color);\n",
              "    }\n",
              "    80% {\n",
              "      border-color: transparent;\n",
              "      border-right-color: var(--fill-color);\n",
              "      border-bottom-color: var(--fill-color);\n",
              "    }\n",
              "    90% {\n",
              "      border-color: transparent;\n",
              "      border-bottom-color: var(--fill-color);\n",
              "    }\n",
              "  }\n",
              "</style>\n",
              "\n",
              "  <script>\n",
              "    async function quickchart(key) {\n",
              "      const quickchartButtonEl =\n",
              "        document.querySelector('#' + key + ' button');\n",
              "      quickchartButtonEl.disabled = true;  // To prevent multiple clicks.\n",
              "      quickchartButtonEl.classList.add('colab-df-spinner');\n",
              "      try {\n",
              "        const charts = await google.colab.kernel.invokeFunction(\n",
              "            'suggestCharts', [key], {});\n",
              "      } catch (error) {\n",
              "        console.error('Error during call to suggestCharts:', error);\n",
              "      }\n",
              "      quickchartButtonEl.classList.remove('colab-df-spinner');\n",
              "      quickchartButtonEl.classList.add('colab-df-quickchart-complete');\n",
              "    }\n",
              "    (() => {\n",
              "      let quickchartButtonEl =\n",
              "        document.querySelector('#df-55cfe237-8eec-40c2-ae69-f805ab79a73f button');\n",
              "      quickchartButtonEl.style.display =\n",
              "        google.colab.kernel.accessAllowed ? 'block' : 'none';\n",
              "    })();\n",
              "  </script>\n",
              "</div>\n",
              "\n",
              "  <div id=\"id_025e00df-acb1-4db6-8c4e-79434ce52a46\">\n",
              "    <style>\n",
              "      .colab-df-generate {\n",
              "        background-color: #E8F0FE;\n",
              "        border: none;\n",
              "        border-radius: 50%;\n",
              "        cursor: pointer;\n",
              "        display: none;\n",
              "        fill: #1967D2;\n",
              "        height: 32px;\n",
              "        padding: 0 0 0 0;\n",
              "        width: 32px;\n",
              "      }\n",
              "\n",
              "      .colab-df-generate:hover {\n",
              "        background-color: #E2EBFA;\n",
              "        box-shadow: 0px 1px 2px rgba(60, 64, 67, 0.3), 0px 1px 3px 1px rgba(60, 64, 67, 0.15);\n",
              "        fill: #174EA6;\n",
              "      }\n",
              "\n",
              "      [theme=dark] .colab-df-generate {\n",
              "        background-color: #3B4455;\n",
              "        fill: #D2E3FC;\n",
              "      }\n",
              "\n",
              "      [theme=dark] .colab-df-generate:hover {\n",
              "        background-color: #434B5C;\n",
              "        box-shadow: 0px 1px 3px 1px rgba(0, 0, 0, 0.15);\n",
              "        filter: drop-shadow(0px 1px 2px rgba(0, 0, 0, 0.3));\n",
              "        fill: #FFFFFF;\n",
              "      }\n",
              "    </style>\n",
              "    <button class=\"colab-df-generate\" onclick=\"generateWithVariable('contingency_table')\"\n",
              "            title=\"Generate code using this dataframe.\"\n",
              "            style=\"display:none;\">\n",
              "\n",
              "  <svg xmlns=\"http://www.w3.org/2000/svg\" height=\"24px\"viewBox=\"0 0 24 24\"\n",
              "       width=\"24px\">\n",
              "    <path d=\"M7,19H8.4L18.45,9,17,7.55,7,17.6ZM5,21V16.75L18.45,3.32a2,2,0,0,1,2.83,0l1.4,1.43a1.91,1.91,0,0,1,.58,1.4,1.91,1.91,0,0,1-.58,1.4L9.25,21ZM18.45,9,17,7.55Zm-12,3A5.31,5.31,0,0,0,4.9,8.1,5.31,5.31,0,0,0,1,6.5,5.31,5.31,0,0,0,4.9,4.9,5.31,5.31,0,0,0,6.5,1,5.31,5.31,0,0,0,8.1,4.9,5.31,5.31,0,0,0,12,6.5,5.46,5.46,0,0,0,6.5,12Z\"/>\n",
              "  </svg>\n",
              "    </button>\n",
              "    <script>\n",
              "      (() => {\n",
              "      const buttonEl =\n",
              "        document.querySelector('#id_025e00df-acb1-4db6-8c4e-79434ce52a46 button.colab-df-generate');\n",
              "      buttonEl.style.display =\n",
              "        google.colab.kernel.accessAllowed ? 'block' : 'none';\n",
              "\n",
              "      buttonEl.onclick = () => {\n",
              "        google.colab.notebook.generateWithVariable('contingency_table');\n",
              "      }\n",
              "      })();\n",
              "    </script>\n",
              "  </div>\n",
              "\n",
              "    </div>\n",
              "  </div>\n"
            ],
            "application/vnd.google.colaboratory.intrinsic+json": {
              "type": "dataframe",
              "variable_name": "contingency_table",
              "summary": "{\n  \"name\": \"contingency_table\",\n  \"rows\": 4,\n  \"fields\": [\n    {\n      \"column\": \"Consumer Demographics\",\n      \"properties\": {\n        \"dtype\": \"string\",\n        \"num_unique_values\": 4,\n        \"samples\": [\n          \"Families\",\n          \"Young adults\",\n          \"College students\"\n        ],\n        \"semantic_type\": \"\",\n        \"description\": \"\"\n      }\n    },\n    {\n      \"column\": \"High\",\n      \"properties\": {\n        \"dtype\": \"number\",\n        \"std\": 8,\n        \"min\": 77,\n        \"max\": 95,\n        \"num_unique_values\": 4,\n        \"samples\": [\n          95,\n          79,\n          77\n        ],\n        \"semantic_type\": \"\",\n        \"description\": \"\"\n      }\n    },\n    {\n      \"column\": \"Low\",\n      \"properties\": {\n        \"dtype\": \"number\",\n        \"std\": 6,\n        \"min\": 74,\n        \"max\": 88,\n        \"num_unique_values\": 4,\n        \"samples\": [\n          83,\n          74,\n          88\n        ],\n        \"semantic_type\": \"\",\n        \"description\": \"\"\n      }\n    },\n    {\n      \"column\": \"Medium\",\n      \"properties\": {\n        \"dtype\": \"number\",\n        \"std\": 1,\n        \"min\": 83,\n        \"max\": 86,\n        \"num_unique_values\": 4,\n        \"samples\": [\n          85,\n          84,\n          86\n        ],\n        \"semantic_type\": \"\",\n        \"description\": \"\"\n      }\n    }\n  ]\n}"
            }
          },
          "metadata": {},
          "execution_count": 49
        }
      ]
    },
    {
      "cell_type": "code",
      "source": [
        "#visualsing the contigency table of consumer demographics and foot traffic as a heatmap\n",
        "\n",
        "plt.figure(figsize=(8, 5))\n",
        "sns.heatmap(contingency_table , annot = True, annot_kws={\"size\": 20})\n",
        "plt.title('Realtionship between Consumer Demographics and Foot Traffic')\n",
        "plt.xlabel('Foot Traffic')\n",
        "plt.ylabel('Consumer Demographics')\n",
        "plt.show()"
      ],
      "metadata": {
        "colab": {
          "base_uri": "https://localhost:8080/",
          "height": 487
        },
        "id": "OrQQhiPQJ75w",
        "outputId": "1e3c9f6d-ba73-48fc-a385-9ceeda791abe"
      },
      "execution_count": null,
      "outputs": [
        {
          "output_type": "display_data",
          "data": {
            "text/plain": [
              "<Figure size 800x500 with 2 Axes>"
            ],
            "image/png": "[encoded data removed]"
          },
          "metadata": {}
        }
      ]
    },
    {
      "cell_type": "markdown",
      "source": [
        "About the code -\n",
        "\n",
        "In the above two codes, I have imported used seaborn which has been imported as sns.\n",
        "\n",
        "Contigency table is used to draw comparison between two different columns. Here, I wanted to analyze foot traffic in each category of consumer demographics which means I needed to show the realtionship between two qualitative columns.\n",
        "\n",
        "pd.crosstab [cross tabulation] is the function used to perform the create contigency table.\n",
        "\n",
        "Afterwards, I have used heatmap as the visualisation tool as it is popular when showing two-dimensional data.\n",
        "\n",
        "\n",
        "---\n",
        "About the heatmap ->\n",
        "figsize depecits the size of it, 8 being the width and 5 being the height.\n",
        "\n",
        "annot = True stands for annotaion, which is by default false. With it being true, the numbers of traffic are being shown inside each box."
      ],
      "metadata": {
        "id": "Xj-FNKVuKW1-"
      }
    },
    {
      "cell_type": "markdown",
      "source": [
        "It can be analyzed that Families category ha received the highest foot traffic, meanwhile Young adults have received the least foot traffic."
      ],
      "metadata": {
        "id": "tzTs0MkVKag-"
      }
    },
    {
      "cell_type": "code",
      "source": [
        "salescheck2 = df.groupby(['Consumer Demographics'])['Sales Volume'].sum()\n",
        "salescheck2"
      ],
      "metadata": {
        "colab": {
          "base_uri": "https://localhost:8080/"
        },
        "id": "cqRULIocKm-B",
        "outputId": "cedff119-69a2-4b53-f47d-3dda0857efe8"
      },
      "execution_count": null,
      "outputs": [
        {
          "output_type": "execute_result",
          "data": {
            "text/plain": [
              "Consumer Demographics\n",
              "College students    450063\n",
              "Families            443276\n",
              "Seniors             444089\n",
              "Young adults        431883\n",
              "Name: Sales Volume, dtype: int64"
            ]
          },
          "metadata": {},
          "execution_count": 51
        }
      ]
    },
    {
      "cell_type": "code",
      "source": [
        "salescheck2.plot(kind = \"barh\", color = \"Purple\")"
      ],
      "metadata": {
        "colab": {
          "base_uri": "https://localhost:8080/",
          "height": 448
        },
        "id": "q8spJdB_L9KY",
        "outputId": "95d933c3-84b4-4e37-c419-493789c10f57"
      },
      "execution_count": null,
      "outputs": [
        {
          "output_type": "execute_result",
          "data": {
            "text/plain": [
              "<Axes: ylabel='Consumer Demographics'>"
            ]
          },
          "metadata": {},
          "execution_count": 52
        },
        {
          "output_type": "display_data",
          "data": {
            "text/plain": [
              "<Figure size 640x480 with 1 Axes>"
            ],
            "image/png": "[encoded data removed]"
          },
          "metadata": {}
        }
      ]
    },
    {
      "cell_type": "markdown",
      "source": [
        "Here it can be witnessed that -\n",
        "- Young Adults have the lowest foot traffic and even have the least sales volume. For this, the products for them must be promoted even better.\n",
        "- Even though the families have the most foot traffic, but they do not have the most sales volume.\n",
        "- The most sales are by college students, this shows their tendency to just buy products instead of exploring.\n",
        "\n",
        "This also shows that young adults do not have an immense amount of money to spend, and they choose to spend it on electronics. And also, do not have high traffic in the store as well.\n",
        "\n"
      ],
      "metadata": {
        "id": "nuQWlDrIMxD8"
      }
    },
    {
      "cell_type": "markdown",
      "source": [
        "##Final Discussion and Conclusion"
      ],
      "metadata": {
        "id": "YcAvnLkxN8K0"
      }
    },
    {
      "cell_type": "markdown",
      "source": [
        "A final discussion and conclusion. For example, what are the overall strengths and lim- itations of your explanatory data analysis? What are the insights and implications of\n",
        "2\n",
        "the results for the business? What are your data-driven recommendations for your client company?"
      ],
      "metadata": {
        "id": "-0BJ6ttsOBwm"
      }
    },
    {
      "cell_type": "markdown",
      "source": [
        "Overall Strenghts - My explanatory data analysis has been able to cover all of the columns that are there in the dataset provided. This ensures that I have been able to analysis the data in many possible ways.\n",
        "\n",
        "Limitations - One of the limitations is that not being able to explore all the relationship between all the columns. With many columns, comes many realtions that can be formed and evaluated. I have done my best to highlight the importance of many of them.\n"
      ],
      "metadata": {
        "id": "bxtx4OGOOEbj"
      }
    },
    {
      "cell_type": "markdown",
      "source": [
        "Insights and Implications -\n",
        "1. Clothing in general has the most potential and the most sales.\n",
        "2. Food has the least sales and are very highly rated, compared to the competitor's price as well.\n",
        "3. Clothing and Food are highly seasonal.\n",
        "4. Electronics are non seasonal products and are highly preferd by young adults and seniors.\n",
        "5. A product being in the front of the store, does not mean that it is sold well.\n",
        "6. Aisle is the best product position in context to there sales volume.\n",
        "\n",
        "These are some of the many things that I have observed from the analysis."
      ],
      "metadata": {
        "id": "p8It2l9pOvxZ"
      }
    },
    {
      "cell_type": "markdown",
      "source": [
        "Following are some of my data driven recommendations -\n",
        "1. Introduce more seasonal clothes and food.\n",
        "2. Provide student discount to college students under electronics, to promote sales of electonics to them.\n",
        "3. More age friendly electonics must be in stock for the seniors.\n",
        "4. Since the high prices are doing well, more products under that category must be added in the store.\n",
        "5. In the future, food needs more promotion as well as the prices must be lowered as they are fairly high compared to the competitors and have a visual effect on the sales volume.\n",
        "\n",
        "The above mentioned are some of the many data driven reccomendations that I have found out from the analysis."
      ],
      "metadata": {
        "id": "XgTHrfVyQWW4"
      }
    }
  ]
}